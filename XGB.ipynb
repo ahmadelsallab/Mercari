{
 "cells": [
  {
   "cell_type": "markdown",
   "metadata": {
    "_cell_guid": "bb33f78c-b01c-4964-a515-c0812270dcd1",
    "_uuid": "26e04e4327449fec7a71a43dc4043d2eee39c6bc"
   },
   "source": [
    "# ELI5: which features are important for price prediction\n",
    "\n",
    "Or, explain like I'm 5, how does a linear ridge predict prices?\n",
    "\n",
    "[ElL5](http://eli5.readthedocs.io/) is a library that can help us with that, let's see it in action. It has support for many models, including XGBoost and LightGBM, but we'll be using it to analyze the Ridge model from scikit-learn.  Overall modelling strategy is inspired by this beatiful kernel [Ridge Script](https://www.kaggle.com/apapiu/ridge-script) by Alexandru Papiu."
   ]
  },
  {
   "cell_type": "code",
   "execution_count": null,
   "metadata": {
    "_cell_guid": "854eac80-1e3c-4535-96de-6f2a9b6b1ec8",
    "_uuid": "9656cb9739b8739425dfc283c9256ef25378cf5f",
    "collapsed": false
   },
   "outputs": [],
   "source": [
    "\n",
    "import numpy as np\n",
    "import pandas as pd\n",
    "from sklearn.model_selection import KFold\n",
    "from sklearn.linear_model import Ridge\n",
    "from sklearn.pipeline import FeatureUnion\n",
    "from sklearn.feature_extraction.text import CountVectorizer, TfidfVectorizer\n",
    "from sklearn.metrics import mean_squared_log_error"
   ]
  },
  {
   "cell_type": "markdown",
   "metadata": {
    "_cell_guid": "13bf5418-dcc0-46c6-bfc1-4042443e12b9",
    "_uuid": "ce549dbb66941cbe3ac50794f4b004511dbbc641"
   },
   "source": [
    "Load the data:"
   ]
  },
  {
   "cell_type": "code",
   "execution_count": null,
   "metadata": {
    "_cell_guid": "192dcc57-a828-4817-a0e7-313b83247ce6",
    "_uuid": "b196884f69ac7521a0a35351439d1a7780973be7",
    "collapsed": true
   },
   "outputs": [],
   "source": [
    "train = pd.read_table('../../dat/train.tsv')\n",
    "test = pd.read_table('../../dat/test.tsv')"
   ]
  },
  {
   "cell_type": "markdown",
   "metadata": {
    "_cell_guid": "2e3a74af-67b2-49bf-9266-03f328a79ce5",
    "_uuid": "62c363574a4c668212569e7c6a1f498200c07407"
   },
   "source": [
    "Apply mostly normal preprocessing, converting ``shipping`` and ``item_condition_id`` to strings to handle them with a count vectorizer too."
   ]
  },
  {
   "cell_type": "code",
   "execution_count": null,
   "metadata": {
    "_cell_guid": "bbf8c52b-9412-4c4d-89b1-ed4a9219d070",
    "_uuid": "f8cf0f0852a841e794f3ae18898e440bca35a20e",
    "collapsed": true
   },
   "outputs": [],
   "source": [
    "y_train = np.log1p(train['price']+1)\n",
    "train['category_name'] = train['category_name'].fillna('Other').astype(str)\n",
    "train['brand_name'] = train['brand_name'].fillna('missing').astype(str)\n",
    "train['shipping'] = train['shipping'].astype(str)\n",
    "train['item_condition_id'] = train['item_condition_id'].astype(str)\n",
    "train['item_description'] = train['item_description'].fillna('None')\n",
    "\n",
    "test['category_name'] = test['category_name'].fillna('Other').astype(str)\n",
    "test['brand_name'] = test['brand_name'].fillna('missing').astype(str)\n",
    "test['shipping'] = test['shipping'].astype(str)\n",
    "test['item_condition_id'] = test['item_condition_id'].astype(str)\n",
    "test['item_description'] = test['item_description'].fillna('None')"
   ]
  },
  {
   "cell_type": "code",
   "execution_count": null,
   "metadata": {
    "_cell_guid": "9e0304c0-8f01-49a4-af03-347f2d981548",
    "_uuid": "6b9b4c0fa5276415ff6194580e7ce7907dffe3d8",
    "collapsed": false
   },
   "outputs": [],
   "source": [
    "train.head()"
   ]
  },
  {
   "cell_type": "markdown",
   "metadata": {
    "_cell_guid": "5a5cb83b-ccd6-41e6-9d38-d67b7fb82dfa",
    "_uuid": "fa9c763ca2a8ce7fbcaa5044f5c829a04103a991"
   },
   "source": [
    "Do feature extraction in a rather silly way, to put it mildly, with the goal of having a single scikit-learn vectorizer handle all preprocessing. eli5 is nicer to use with default sklearn objects (although you can pass arbitrary feature names), so we go this way. And siliness with ``preprocessor`` is due to scikit-learn not yet playing nicely with pandas dataframe objects, but it's bearable."
   ]
  },
  {
   "cell_type": "code",
   "execution_count": null,
   "metadata": {
    "_cell_guid": "b48ec890-c646-4627-8348-010fdfaabff4",
    "_uuid": "184dbbb35e39df0e7c1cbf86a934aaf34a3c0649",
    "collapsed": false
   },
   "outputs": [],
   "source": [
    "%%time\n",
    "\n",
    "# we need a custom pre-processor to extract correct field,\n",
    "# but want to also use default scikit-learn preprocessing (e.g. lowercasing)\n",
    "default_preprocessor = CountVectorizer().build_preprocessor()\n",
    "def build_preprocessor(field):\n",
    "    field_idx = list(train.columns).index(field)\n",
    "    return lambda x: default_preprocessor(x[field_idx])\n",
    "\n",
    "vectorizer = FeatureUnion([\n",
    "    ('name', CountVectorizer(\n",
    "        ngram_range=(1, 2),\n",
    "        max_features=50000,\n",
    "        preprocessor=build_preprocessor('name'))),\n",
    "    ('category_name', CountVectorizer(\n",
    "        token_pattern='.+',\n",
    "        preprocessor=build_preprocessor('category_name'))),\n",
    "    ('brand_name', CountVectorizer(\n",
    "        token_pattern='.+',\n",
    "        preprocessor=build_preprocessor('brand_name'))),\n",
    "    ('shipping', CountVectorizer(\n",
    "        token_pattern='\\d+',\n",
    "        preprocessor=build_preprocessor('shipping'))),\n",
    "    ('item_condition_id', CountVectorizer(\n",
    "        token_pattern='\\d+',\n",
    "        preprocessor=build_preprocessor('item_condition_id'))),\n",
    "    ('item_description', TfidfVectorizer(\n",
    "        ngram_range=(1, 3),\n",
    "        max_features=100000,\n",
    "        preprocessor=build_preprocessor('item_description'))),\n",
    "])\n",
    "'''\n",
    "vectorizer = FeatureUnion([\n",
    "    ('name', CountVectorizer(\n",
    "        ngram_range=(1, 2),\n",
    "        max_features=50000,\n",
    "        preprocessor=build_preprocessor('name'))),\n",
    "])\n",
    "'''\n",
    "X_train = vectorizer.fit_transform(train.values)\n",
    "X_test = vectorizer.fit_transform(test.values)\n"
   ]
  },
  {
   "cell_type": "markdown",
   "metadata": {
    "_cell_guid": "e0409356-7058-432d-ba9b-ea67aa2d7661",
    "_uuid": "b4a404b5c985cf080905a7becf043e2192965a11"
   },
   "source": [
    "Now let's train the Ridge model and check it's performance on one fold. Nothing interesting going on here yet."
   ]
  },
  {
   "cell_type": "code",
   "execution_count": null,
   "metadata": {
    "_cell_guid": "9beb2b73-fb02-4d79-91ab-b91c16ac30d2",
    "_uuid": "98723874e151fdff6c77d14d1808f2040bfeb5fd",
    "collapsed": false
   },
   "outputs": [],
   "source": [
    "%%time\n",
    "\n",
    "def get_rmsle(y_true, y_pred):\n",
    "    return np.sqrt(mean_squared_log_error(np.expm1(y_true), np.expm1(y_pred)))\n",
    "\n",
    "cv = KFold(n_splits=10, shuffle=True, random_state=42)\n",
    "for train_ids, valid_ids in cv.split(X_train):\n",
    "    model = Ridge(\n",
    "        solver='auto',\n",
    "        fit_intercept=True,\n",
    "        alpha=0.5,\n",
    "        max_iter=100,\n",
    "        normalize=False,\n",
    "        tol=0.05)\n",
    "    model.fit(X_train[train_ids], y_train[train_ids])\n",
    "    y_pred_valid = model.predict(X_train[valid_ids])\n",
    "    rmsle = get_rmsle(y_pred_valid, y_train[valid_ids])\n",
    "    print('valid rmsle:', rmsle)\n",
    "    break"
   ]
  },
  {
   "cell_type": "markdown",
   "metadata": {
    "_cell_guid": "3f4fb020-ec2d-4d62-a230-4e5dbd818916",
    "_uuid": "ce24d08931e5563ce856fbd1f4ebc7fd279544b6"
   },
   "source": [
    "Now that the model is fitted, we can check it's most important features with the power of ELI5. Here we pass the ``vectorizer`` - if we didn't have it, we would have to pass ``feature_names`` instead."
   ]
  },
  {
   "cell_type": "code",
   "execution_count": null,
   "metadata": {
    "_cell_guid": "d2073779-7e29-4d0b-8f82-6c2e89e19ef4",
    "_uuid": "f3008a8815d18412e09b60c4f66652e29c30340f",
    "collapsed": false
   },
   "outputs": [],
   "source": [
    "import eli5\n",
    "eli5.show_weights(model, vec=vectorizer)"
   ]
  },
  {
   "cell_type": "markdown",
   "metadata": {
    "_cell_guid": "b2297db4-ca84-43bf-8297-280eb371f840",
    "_uuid": "6bb5da9aafb1785a8bf71edb46ebad5d27520adc"
   },
   "source": [
    "The part before the double underscore is the vectorizer name, and the feature name goes after that. Let's show more features and get rid of the bias term:"
   ]
  },
  {
   "cell_type": "code",
   "execution_count": null,
   "metadata": {
    "_cell_guid": "44be2b0e-1fa2-447c-a581-6be152a8a256",
    "_uuid": "4cbfe8c3587f6e9fa8fa76767bf8fcfacb28d267",
    "collapsed": false
   },
   "outputs": [],
   "source": [
    "eli5.show_weights(model, vec=vectorizer, top=100, feature_filter=lambda x: x != '<BIAS>')"
   ]
  },
  {
   "cell_type": "markdown",
   "metadata": {
    "_cell_guid": "7bb3d90b-c041-43b7-bdcf-8f73ace69560",
    "_uuid": "4c576520f4f40f9bbf9ce8961ccbc40a4f393fae"
   },
   "source": [
    "Another handy feature is analyzing individual predictions. Let's check some predictions from the validation set. You see a summary of various vectorizer's contribution at the top, and then below you can see features highlighed in text."
   ]
  },
  {
   "cell_type": "code",
   "execution_count": null,
   "metadata": {
    "_cell_guid": "48e9b9d5-b59a-40d1-85ea-aba26dac6212",
    "_uuid": "3d1b5e408fb3008324d7b4d6979b983c105bf3f6",
    "collapsed": false
   },
   "outputs": [],
   "source": [
    "eli5.show_prediction(model, doc=train.values[100], vec=vectorizer)"
   ]
  },
  {
   "cell_type": "code",
   "execution_count": null,
   "metadata": {
    "_cell_guid": "4d54d0e2-f46b-480f-8f42-b2c349c2acac",
    "_uuid": "3eaf16c1f7dabe09148fa1e79935a5d1f36de2b8",
    "collapsed": false
   },
   "outputs": [],
   "source": [
    "eli5.show_prediction(model, doc=train.values[1], vec=vectorizer)"
   ]
  },
  {
   "cell_type": "code",
   "execution_count": null,
   "metadata": {
    "_cell_guid": "27a3d5b9-17d5-45d8-9a54-ebc79303e438",
    "_uuid": "d2a12d21fba33321a296e5489c66dc012a6648a3",
    "collapsed": false
   },
   "outputs": [],
   "source": [
    "eli5.show_prediction(model, doc=train.values[2], vec=vectorizer)"
   ]
  },
  {
   "cell_type": "code",
   "execution_count": null,
   "metadata": {
    "_uuid": "873a1b66932f3b4f52f0f60c590791a0a5108177",
    "collapsed": false
   },
   "outputs": [],
   "source": [
    "#CREATE PREDICTIONS\n",
    "preds = model.predict(X_test)\n",
    "#preds = np.reshape(preds, [len(preds), 1])\n",
    "#preds = target_scaler.inverse_transform(preds)\n",
    "preds = np.exp(preds)-1\n",
    "\n",
    "submission = test[[\"test_id\"]]\n",
    "submission[\"price\"] = preds\n",
    "\n",
    "submission.to_csv(\"./submission_XGB.csv\", index=False)\n",
    "submission.price.hist()"
   ]
  },
  {
   "cell_type": "markdown",
   "metadata": {
    "_cell_guid": "a419d2d1-108c-4a51-8680-0c4bfde1463b",
    "_uuid": "30f9983728df17a48802e99bd39ebcde33373c13"
   },
   "source": [
    "What can we do with this?\n",
    "First, you can examine features to see if they are what you expect - maybe you are missing some important information due to bad tokenization or have a lot of noise features due to insufficient regularization.\n",
    "You can also check most erroneous predictions and try to understand why does the model fail on them."
   ]
  },
  {
   "cell_type": "markdown",
   "metadata": {
    "_uuid": "123ae73732ef3cc07f1761a81df603a9cee46d55"
   },
   "source": []
  }
 ],
 "metadata": {
  "anaconda-cloud": {},
  "kernelspec": {
   "display_name": "Python [default]",
   "language": "python",
   "name": "python3"
  },
  "language_info": {
   "codemirror_mode": {
    "name": "ipython",
    "version": 3
   },
   "file_extension": ".py",
   "mimetype": "text/x-python",
   "name": "python",
   "nbconvert_exporter": "python",
   "pygments_lexer": "ipython3",
   "version": "3.5.2"
  }
 },
 "nbformat": 4,
 "nbformat_minor": 1
}
