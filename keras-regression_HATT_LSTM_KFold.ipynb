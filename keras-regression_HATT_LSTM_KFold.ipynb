{
 "cells": [
  {
   "cell_type": "code",
   "execution_count": null,
   "metadata": {
    "collapsed": false,
    "nbpresent": {
     "id": "27825c21-f737-4142-a6bd-4ada6c61f0de"
    }
   },
   "outputs": [],
   "source": [
    "import pandas as pd\n",
    "\n",
    "# NLP\n",
    "from nltk import tokenize\n",
    "\n",
    "# Keras and TF\n",
    "import keras as K\n",
    "from sklearn.model_selection import train_test_split\n",
    "from keras.backend.tensorflow_backend import set_session\n",
    "import tensorflow as tf\n",
    "\n",
    "\n",
    "# GPU usage\n",
    "config = tf.ConfigProto()\n",
    "config.gpu_options.allow_growth = True\n",
    "set_session(tf.Session(config=config))"
   ]
  },
  {
   "cell_type": "code",
   "execution_count": null,
   "metadata": {
    "collapsed": false
   },
   "outputs": [],
   "source": [
    "\n",
    "# Load training data frame\n",
    "train_data_path = '..\\\\..\\\\dat\\\\train.tsv'\n",
    "train_df = pd.read_table(train_data_path)\n",
    "print('Training DataFrame loaded')"
   ]
  },
  {
   "cell_type": "code",
   "execution_count": null,
   "metadata": {
    "collapsed": false
   },
   "outputs": [],
   "source": [
    "print('Data shape:')\n",
    "print(train_df.shape)"
   ]
  },
  {
   "cell_type": "code",
   "execution_count": null,
   "metadata": {
    "collapsed": false,
    "nbpresent": {
     "id": "6252e2dd-16fb-48cf-a202-b48f53d6a02f"
    }
   },
   "outputs": [],
   "source": [
    "print('Sample:')\n",
    "#print(train_df.head(10))\n",
    "#print(train_df.head())\n",
    "#train_df.head()\n",
    "train_df.head(10)"
   ]
  },
  {
   "cell_type": "code",
   "execution_count": null,
   "metadata": {
    "collapsed": false
   },
   "outputs": [],
   "source": [
    "# Filter on the text or item_description\n",
    "X = train_df['item_description']"
   ]
  },
  {
   "cell_type": "code",
   "execution_count": null,
   "metadata": {
    "collapsed": true
   },
   "outputs": [],
   "source": [
    "# Filter on the target prices\n",
    "Y = train_df['price']"
   ]
  },
  {
   "cell_type": "code",
   "execution_count": null,
   "metadata": {
    "collapsed": false
   },
   "outputs": [],
   "source": [
    "assert len(X) == len(Y)"
   ]
  },
  {
   "cell_type": "code",
   "execution_count": null,
   "metadata": {
    "collapsed": true
   },
   "outputs": [],
   "source": [
    "# Preprocessing\n",
    "MAX_SENT_LENGTH = 100\n",
    "MAX_SENTS = 15\n",
    "MAX_NB_WORDS = 20000\n",
    "EMBEDDING_DIM = 100\n",
    "VALIDATION_SPLIT = 0.2\n",
    "NUM_EPOCHS = 100\n",
    "BATCH_SIZE = 50\n",
    "def clean_str(string):\n",
    "    \"\"\"\n",
    "    Tokenization/string cleaning for dataset\n",
    "    Every dataset is lower cased except\n",
    "    \"\"\"\n",
    "    string = re.sub(r\"\\\\\", \"\", string)    \n",
    "    string = re.sub(r\"\\'\", \"\", string)    \n",
    "    string = re.sub(r\"\\\"\", \"\", string)    \n",
    "    return string.strip().lower()"
   ]
  },
  {
   "cell_type": "code",
   "execution_count": null,
   "metadata": {
    "collapsed": false
   },
   "outputs": [],
   "source": [
    "\n",
    "reviews = []\n",
    "labels = []\n",
    "texts = []\n",
    "\n",
    "for idx in range(X.shape[0]):\n",
    "    text = X[idx]\n",
    "    print(text)\n",
    "    texts.append(text)\n",
    "    sentences = tokenize.sent_tokenize(text)\n",
    "    reviews.append(sentences)\n",
    "    \n",
    "    labels.append(Y[idx])\n",
    "\n",
    "tokenizer = Tokenizer(nb_words=MAX_NB_WORDS)\n",
    "tokenizer.fit_on_texts(texts)\n",
    "\n",
    "data = np.zeros((len(texts), MAX_SENTS, MAX_SENT_LENGTH), dtype='int32')\n",
    "\n",
    "for i, sentences in enumerate(reviews):\n",
    "    for j, sent in enumerate(sentences):\n",
    "        if j< MAX_SENTS:\n",
    "            wordTokens = text_to_word_sequence(sent)\n",
    "            k=0\n",
    "            for _, word in enumerate(wordTokens):\n",
    "                if k<MAX_SENT_LENGTH and tokenizer.word_index[word]<MAX_NB_WORDS:\n",
    "                    data[i,j,k] = tokenizer.word_index[word]\n",
    "                    k=k+1                    \n",
    "                    \n",
    "word_index = tokenizer.word_index\n",
    "print('Total %s unique tokens.' % len(word_index))\n"
   ]
  },
  {
   "cell_type": "code",
   "execution_count": null,
   "metadata": {
    "collapsed": true
   },
   "outputs": [],
   "source": [
    "# Split into train and test\n",
    "'''\n",
    "random_seed=42\n",
    "X_train, X_val, Y_train, Y_val = train_test_split(X, Y, test_size=0.33, shuffle=True, random_state=random_seed)\n",
    "'''"
   ]
  },
  {
   "cell_type": "code",
   "execution_count": null,
   "metadata": {
    "collapsed": true
   },
   "outputs": [],
   "source": [
    "class AttLayer(Layer):\n",
    "    def __init__(self, **kwargs):\n",
    "        self.init = initializations.get('normal')\n",
    "        super(AttLayer, self).__init__(**kwargs)\n",
    "\n",
    "    def build(self, input_shape):\n",
    "        assert len(input_shape)==3\n",
    "        self.W = self.init((input_shape[-1],1))\n",
    "        self.trainable_weights = [self.W]\n",
    "        super(AttLayer, self).build(input_shape)  # be sure you call this somewhere!\n",
    "\n",
    "    def call(self, x, mask=None):\n",
    "        eij = K.tanh(K.dot(x, self.W))\n",
    "        \n",
    "        ai = K.exp(eij)\n",
    "    weights = ai/tf.expand_dims(K.sum(ai, axis=1), 1)\n",
    "        \n",
    "    weighted_input = x*weights\n",
    "    return tf.reduce_sum(weighted_input, axis=1)\n",
    "\n",
    "    def get_output_shape_for(self, input_shape):\n",
    "        return (input_shape[0], input_shape[-1])\n",
    "\n",
    "# define base model\n",
    "def baseline_model():\n",
    "    GLOVE_DIR = \"../dat/glove\"\n",
    "    embeddings_index = {}\n",
    "    f = open(os.path.join(GLOVE_DIR, 'glove.6B.100d.txt'))\n",
    "    for line in f:\n",
    "        values = line.split()\n",
    "        word = values[0]\n",
    "        coefs = np.asarray(values[1:], dtype='float32')\n",
    "        embeddings_index[word] = coefs\n",
    "\n",
    "    f.close()\n",
    "\n",
    "    print('Total %s word vectors.' % len(embeddings_index))\n",
    "\n",
    "\n",
    "    # building Hierachical Attention network\n",
    "    embedding_matrix = np.random.random((len(word_index) + 1, EMBEDDING_DIM))\n",
    "    for word, i in word_index.items():\n",
    "        embedding_vector = embeddings_index.get(word)\n",
    "        if embedding_vector is not None:\n",
    "            # words not found in embedding index will be all-zeros.\n",
    "            embedding_matrix[i] = embedding_vector\n",
    "\n",
    "    embedding_layer = Embedding(len(word_index) + 1,\n",
    "                                EMBEDDING_DIM,\n",
    "                                weights=[embedding_matrix],\n",
    "                                input_length=MAX_SENT_LENGTH,\n",
    "                                trainable=True)\n",
    "    \n",
    "    sentence_input = Input(shape=(MAX_SENT_LENGTH,), dtype='int32')\n",
    "    embedded_sequences = embedding_layer(sentence_input)\n",
    "    l_lstm = Bidirectional(GRU(100, return_sequences=True))(embedded_sequences)\n",
    "    l_dense = TimeDistributed(Dense(200))(l_lstm)\n",
    "    l_att = AttLayer()(l_dense)\n",
    "    sentEncoder = Model(sentence_input, l_att)\n",
    "\n",
    "    review_input = Input(shape=(MAX_SENTS,MAX_SENT_LENGTH), dtype='int32')\n",
    "    review_encoder = TimeDistributed(sentEncoder)(review_input)\n",
    "    l_lstm_sent = Bidirectional(GRU(100, return_sequences=True))(review_encoder)\n",
    "    l_dense_sent = TimeDistributed(Dense(200))(l_lstm_sent)\n",
    "    l_att_sent = AttLayer()(l_dense_sent)\n",
    "    preds = Dense(1)(l_att_sent)\n",
    "    model = Model(review_input, preds)\n",
    "\n",
    "    model.compile(loss='mean_squared_error',\n",
    "                  optimizer='adam',\n",
    "                  metrics=['acc'])\n",
    "\n",
    "    return model"
   ]
  },
  {
   "cell_type": "code",
   "execution_count": null,
   "metadata": {
    "collapsed": true
   },
   "outputs": [],
   "source": [
    "# fix random seed for reproducibility\n",
    "seed = 7\n",
    "numpy.random.seed(seed)\n",
    "# evaluate model with standardized dataset\n",
    "estimator = KerasRegressor(build_fn=baseline_model, nb_epoch=100, batch_size=5, verbose=0)\n"
   ]
  },
  {
   "cell_type": "code",
   "execution_count": null,
   "metadata": {
    "collapsed": true
   },
   "outputs": [],
   "source": [
    "\n",
    "kfold = KFold(n_splits=10, random_state=seed)\n",
    "results = cross_val_score(estimator, data, Y, cv=kfold)\n",
    "print(\"Results: %.2f (%.2f) MSE\" % (results.mean(), results.std()))"
   ]
  }
 ],
 "metadata": {
  "anaconda-cloud": {},
  "kernelspec": {
   "display_name": "Python [default]",
   "language": "python",
   "name": "python3"
  },
  "language_info": {
   "codemirror_mode": {
    "name": "ipython",
    "version": 3
   },
   "file_extension": ".py",
   "mimetype": "text/x-python",
   "name": "python",
   "nbconvert_exporter": "python",
   "pygments_lexer": "ipython3",
   "version": "3.5.2"
  },
  "nbpresent": {
   "slides": {
    "0592778d-d3fd-40d8-935a-dc60a3fcde69": {
     "id": "0592778d-d3fd-40d8-935a-dc60a3fcde69",
     "prev": "7032ae11-e412-4f48-98ac-1be74c9ef604",
     "regions": {
      "8238b376-db7d-475c-9b43-15f063c02c08": {
       "attrs": {
        "height": 0.8,
        "width": 0.8,
        "x": 0.1,
        "y": 0.1
       },
       "content": {
        "cell": "69697a89-e120-4d84-9f6e-81bd7512f61c",
        "part": "whole"
       },
       "id": "8238b376-db7d-475c-9b43-15f063c02c08"
      }
     }
    },
    "07c31196-a718-4d0d-9680-fe961c537de9": {
     "id": "07c31196-a718-4d0d-9680-fe961c537de9",
     "prev": "733fce55-404f-4719-8c3a-45a1a61c512b",
     "regions": {
      "b5e1a74e-a7a0-47d3-962a-b31d886da275": {
       "attrs": {
        "height": 0.8,
        "width": 0.8,
        "x": 0.1,
        "y": 0.1
       },
       "content": {
        "cell": "2dce3865-59bf-4ddd-a1fb-d4fc18da016d",
        "part": "whole"
       },
       "id": "b5e1a74e-a7a0-47d3-962a-b31d886da275"
      }
     }
    },
    "07f986e3-8689-4659-9c4a-d57510490d7b": {
     "id": "07f986e3-8689-4659-9c4a-d57510490d7b",
     "prev": "4196536b-87ed-4a47-b161-68393fb8a99c",
     "regions": {
      "fff47eb0-27ea-4492-b7dd-42942d3898d1": {
       "attrs": {
        "height": 0.8,
        "width": 0.8,
        "x": 0.1,
        "y": 0.1
       },
       "content": {
        "cell": "49d5bfd6-d7ad-41f7-89b1-e293644e77a8",
        "part": "whole"
       },
       "id": "fff47eb0-27ea-4492-b7dd-42942d3898d1"
      }
     }
    },
    "08195c5d-ffdf-477f-a9c1-3bd7345303c4": {
     "id": "08195c5d-ffdf-477f-a9c1-3bd7345303c4",
     "prev": "394366da-b2d3-453f-9f6c-141700a3a16c",
     "regions": {
      "d53764dc-0e22-4b09-9d10-2b583424a79a": {
       "attrs": {
        "height": 0.8,
        "width": 0.8,
        "x": 0.1,
        "y": 0.1
       },
       "content": {
        "cell": "989d1f5b-a849-4df1-8566-9695456bfe91",
        "part": "whole"
       },
       "id": "d53764dc-0e22-4b09-9d10-2b583424a79a"
      }
     }
    },
    "1bce4d84-a36a-4407-b1df-841715a13d14": {
     "id": "1bce4d84-a36a-4407-b1df-841715a13d14",
     "prev": "5f4430ff-2478-471a-8e5f-68ecc5b2ac56",
     "regions": {
      "36066d4f-a0fc-4967-9ba4-8bb96256080e": {
       "attrs": {
        "height": 0.8,
        "width": 0.8,
        "x": 0.1,
        "y": 0.1
       },
       "content": {
        "cell": "7e2b282c-7f8d-4a54-a7ee-e455e2f514c2",
        "part": "whole"
       },
       "id": "36066d4f-a0fc-4967-9ba4-8bb96256080e"
      }
     }
    },
    "2dafff73-ecda-4187-b107-1ef5e9b9f06e": {
     "id": "2dafff73-ecda-4187-b107-1ef5e9b9f06e",
     "prev": "dc06d0b7-5f04-4f39-89bd-19a7318ead38",
     "regions": {
      "58714dd2-d280-4076-b2ff-638fc87c11fe": {
       "attrs": {
        "height": 0.8,
        "width": 0.8,
        "x": 0.1,
        "y": 0.1
       },
       "content": {
        "cell": "bdfb573f-0a25-4518-818a-fd38463d0d0b",
        "part": "whole"
       },
       "id": "58714dd2-d280-4076-b2ff-638fc87c11fe"
      }
     }
    },
    "343b7554-efa1-4cdb-8bec-cc4b72a89ff3": {
     "id": "343b7554-efa1-4cdb-8bec-cc4b72a89ff3",
     "prev": "ec1b683e-4a20-46c5-af4d-ddd69b7d6e80",
     "regions": {
      "ad0de149-5cb4-434c-b3ef-098efb1c0a6e": {
       "attrs": {
        "height": 0.8,
        "width": 0.8,
        "x": 0.1,
        "y": 0.1
       },
       "content": {
        "cell": "ffb58ac1-eec4-490c-97ac-bb20b317494e",
        "part": "whole"
       },
       "id": "ad0de149-5cb4-434c-b3ef-098efb1c0a6e"
      }
     }
    },
    "3482efdb-e820-47c5-b3a4-7ce32311a574": {
     "id": "3482efdb-e820-47c5-b3a4-7ce32311a574",
     "prev": "343b7554-efa1-4cdb-8bec-cc4b72a89ff3",
     "regions": {
      "ab5c88ff-dc2f-4f06-9d6e-e72342e45df6": {
       "attrs": {
        "height": 0.8,
        "width": 0.8,
        "x": 0.1,
        "y": 0.1
       },
       "content": {
        "cell": "0b1e234a-98b4-4ab4-8315-5e238a83095f",
        "part": "whole"
       },
       "id": "ab5c88ff-dc2f-4f06-9d6e-e72342e45df6"
      }
     }
    },
    "37132466-ba4b-47b3-ba2d-5bc768003c10": {
     "id": "37132466-ba4b-47b3-ba2d-5bc768003c10",
     "prev": "685ca09a-5580-48dc-90ae-dde914cc84e4",
     "regions": {
      "49bae280-3205-4f04-a9aa-2803192e6060": {
       "attrs": {
        "height": 0.8,
        "width": 0.8,
        "x": 0.1,
        "y": 0.1
       },
       "content": {
        "cell": "5195f738-a29e-4577-932d-65e9fe4956bd",
        "part": "whole"
       },
       "id": "49bae280-3205-4f04-a9aa-2803192e6060"
      }
     }
    },
    "394366da-b2d3-453f-9f6c-141700a3a16c": {
     "id": "394366da-b2d3-453f-9f6c-141700a3a16c",
     "prev": "1bce4d84-a36a-4407-b1df-841715a13d14",
     "regions": {
      "c8a22e66-c978-400b-b3a1-5bee0038e7bd": {
       "attrs": {
        "height": 0.8,
        "width": 0.8,
        "x": 0.1,
        "y": 0.1
       },
       "content": {
        "cell": "540ca55f-5cb4-4fdc-bcec-be494642c7d1",
        "part": "whole"
       },
       "id": "c8a22e66-c978-400b-b3a1-5bee0038e7bd"
      }
     }
    },
    "3b16143b-345f-4791-a3a3-10b587ff9110": {
     "id": "3b16143b-345f-4791-a3a3-10b587ff9110",
     "prev": null,
     "regions": {
      "374defc4-236f-4a8e-a325-1706b89d56f2": {
       "attrs": {
        "height": 0.8,
        "width": 0.8,
        "x": 0.1,
        "y": 0.1
       },
       "content": {
        "cell": "27825c21-f737-4142-a6bd-4ada6c61f0de",
        "part": "whole"
       },
       "id": "374defc4-236f-4a8e-a325-1706b89d56f2"
      }
     }
    },
    "4196536b-87ed-4a47-b161-68393fb8a99c": {
     "id": "4196536b-87ed-4a47-b161-68393fb8a99c",
     "prev": "6e584ac9-75e5-4147-bdf0-93b75284e672",
     "regions": {
      "288e849e-cdfc-482d-9195-7f839e5c63a7": {
       "attrs": {
        "height": 0.8,
        "width": 0.8,
        "x": 0.1,
        "y": 0.1
       },
       "content": {
        "cell": "a0fc8de4-c54f-490d-956e-db13edeb918b",
        "part": "whole"
       },
       "id": "288e849e-cdfc-482d-9195-7f839e5c63a7"
      }
     }
    },
    "5db57843-12b3-469a-8aa8-36d14af0ea41": {
     "id": "5db57843-12b3-469a-8aa8-36d14af0ea41",
     "prev": "2dafff73-ecda-4187-b107-1ef5e9b9f06e",
     "regions": {
      "ee8a3e9e-0931-4a0a-bbd5-8d55b9c00438": {
       "attrs": {
        "height": 0.8,
        "width": 0.8,
        "x": 0.1,
        "y": 0.1
       },
       "content": {
        "cell": "0bc7acbf-bab9-4d77-ab0d-edea08cf1fcf",
        "part": "whole"
       },
       "id": "ee8a3e9e-0931-4a0a-bbd5-8d55b9c00438"
      }
     }
    },
    "5f4430ff-2478-471a-8e5f-68ecc5b2ac56": {
     "id": "5f4430ff-2478-471a-8e5f-68ecc5b2ac56",
     "prev": "c04bb119-2cfa-4723-a260-d6042404aed3",
     "regions": {
      "1363b062-676d-4dcd-822f-57e419165eeb": {
       "attrs": {
        "height": 0.8,
        "width": 0.8,
        "x": 0.1,
        "y": 0.1
       },
       "content": {
        "cell": "6252e2dd-16fb-48cf-a202-b48f53d6a02f",
        "part": "whole"
       },
       "id": "1363b062-676d-4dcd-822f-57e419165eeb"
      }
     }
    },
    "685ca09a-5580-48dc-90ae-dde914cc84e4": {
     "id": "685ca09a-5580-48dc-90ae-dde914cc84e4",
     "prev": "5db57843-12b3-469a-8aa8-36d14af0ea41",
     "regions": {
      "dcc07e1f-2fe7-460d-9591-58f681964e48": {
       "attrs": {
        "height": 0.8,
        "width": 0.8,
        "x": 0.1,
        "y": 0.1
       },
       "content": {
        "cell": "a2088fa4-9872-4fc8-a514-194b5964525c",
        "part": "whole"
       },
       "id": "dcc07e1f-2fe7-460d-9591-58f681964e48"
      }
     }
    },
    "6e584ac9-75e5-4147-bdf0-93b75284e672": {
     "id": "6e584ac9-75e5-4147-bdf0-93b75284e672",
     "prev": "ceee6bdd-49ee-4137-9e44-886e1fb18d2d",
     "regions": {
      "3bd558a0-3f0f-4c68-9113-6bd6dce43d12": {
       "attrs": {
        "height": 0.8,
        "width": 0.8,
        "x": 0.1,
        "y": 0.1
       },
       "content": {
        "cell": "17e81e3e-a28a-4d5d-891f-464c69e03052",
        "part": "whole"
       },
       "id": "3bd558a0-3f0f-4c68-9113-6bd6dce43d12"
      }
     }
    },
    "6e7129b5-af38-4bcc-b7bb-69d1ff8d506d": {
     "id": "6e7129b5-af38-4bcc-b7bb-69d1ff8d506d",
     "prev": "787e871b-54d7-4b7f-bab5-9bd2fcb9a583",
     "regions": {
      "e70b549f-ce6a-4c50-b4f6-09f52130853b": {
       "attrs": {
        "height": 0.8,
        "width": 0.8,
        "x": 0.1,
        "y": 0.1
       },
       "content": {
        "cell": "5b394169-696d-4a7d-89b3-95577b97d6d7",
        "part": "whole"
       },
       "id": "e70b549f-ce6a-4c50-b4f6-09f52130853b"
      }
     }
    },
    "7032ae11-e412-4f48-98ac-1be74c9ef604": {
     "id": "7032ae11-e412-4f48-98ac-1be74c9ef604",
     "prev": "08195c5d-ffdf-477f-a9c1-3bd7345303c4",
     "regions": {
      "995a162b-9afe-474a-9ad8-218cfb6bec70": {
       "attrs": {
        "height": 0.8,
        "width": 0.8,
        "x": 0.1,
        "y": 0.1
       },
       "content": {
        "cell": "fe3f4c6a-3fdf-4a2e-81f6-8083ded24f74",
        "part": "whole"
       },
       "id": "995a162b-9afe-474a-9ad8-218cfb6bec70"
      }
     }
    },
    "71425e16-220a-46af-9932-cb5f664b7921": {
     "id": "71425e16-220a-46af-9932-cb5f664b7921",
     "prev": "cc35be37-82f3-4924-b584-b12603dccf1f",
     "regions": {
      "89f5bab7-a962-4544-89cc-2ec49b41c53e": {
       "attrs": {
        "height": 0.8,
        "width": 0.8,
        "x": 0.1,
        "y": 0.1
       },
       "content": {
        "cell": "3cd31fee-81e2-4661-9be5-ca5bd162b692",
        "part": "whole"
       },
       "id": "89f5bab7-a962-4544-89cc-2ec49b41c53e"
      }
     }
    },
    "733fce55-404f-4719-8c3a-45a1a61c512b": {
     "id": "733fce55-404f-4719-8c3a-45a1a61c512b",
     "prev": "0592778d-d3fd-40d8-935a-dc60a3fcde69",
     "regions": {
      "08a708e9-db29-487f-b2a6-639d66c4aecd": {
       "attrs": {
        "height": 0.8,
        "width": 0.8,
        "x": 0.1,
        "y": 0.1
       },
       "content": {
        "cell": "31a1e7fa-dbac-4279-bece-ad823715f181",
        "part": "whole"
       },
       "id": "08a708e9-db29-487f-b2a6-639d66c4aecd"
      }
     }
    },
    "7469d861-eabd-49db-b9f8-e41a56498cd9": {
     "id": "7469d861-eabd-49db-b9f8-e41a56498cd9",
     "prev": "d228f94b-161b-4fde-99f9-f45b2fa681f1",
     "regions": {
      "216a8559-bbbf-4624-a0da-d71bca712dd1": {
       "attrs": {
        "height": 0.8,
        "width": 0.8,
        "x": 0.1,
        "y": 0.1
       },
       "content": {
        "cell": "10364db5-87a6-41e0-a34f-525bd6304b1d",
        "part": "whole"
       },
       "id": "216a8559-bbbf-4624-a0da-d71bca712dd1"
      }
     }
    },
    "787e871b-54d7-4b7f-bab5-9bd2fcb9a583": {
     "id": "787e871b-54d7-4b7f-bab5-9bd2fcb9a583",
     "prev": "aa7b2c26-115d-4b79-92a1-12f29dac74bf",
     "regions": {
      "2f37d54a-86ed-4003-b60c-c23195c4c7ac": {
       "attrs": {
        "height": 0.8,
        "width": 0.8,
        "x": 0.1,
        "y": 0.1
       },
       "content": {
        "cell": "b7df23f3-f561-4111-aac1-25e1ab9c41f1",
        "part": "whole"
       },
       "id": "2f37d54a-86ed-4003-b60c-c23195c4c7ac"
      }
     }
    },
    "81122c4a-0eb3-459f-9f79-69fcd84b700f": {
     "id": "81122c4a-0eb3-459f-9f79-69fcd84b700f",
     "prev": "07c31196-a718-4d0d-9680-fe961c537de9",
     "regions": {
      "2e160632-a753-40d0-9341-543cc0450b44": {
       "attrs": {
        "height": 0.8,
        "width": 0.8,
        "x": 0.1,
        "y": 0.1
       },
       "content": {
        "cell": "641b88a6-e2d0-4d29-8c39-875252887443",
        "part": "whole"
       },
       "id": "2e160632-a753-40d0-9341-543cc0450b44"
      }
     }
    },
    "a214562f-62c5-4e05-b74f-14cfa79f7429": {
     "id": "a214562f-62c5-4e05-b74f-14cfa79f7429",
     "prev": "71425e16-220a-46af-9932-cb5f664b7921",
     "regions": {
      "504160f9-877e-458c-8223-55a64c038c4d": {
       "attrs": {
        "height": 0.8,
        "width": 0.8,
        "x": 0.1,
        "y": 0.1
       },
       "content": {
        "cell": "4632839f-f466-4b94-80bd-a053cefdd42c",
        "part": "whole"
       },
       "id": "504160f9-877e-458c-8223-55a64c038c4d"
      }
     }
    },
    "a2aa2df4-c4fe-4b8c-84bc-35ae396bf7be": {
     "id": "a2aa2df4-c4fe-4b8c-84bc-35ae396bf7be",
     "prev": "d5c419a6-51b1-412f-87ca-f7bbd05303e2",
     "regions": {
      "badc6664-7d4f-4c22-8974-7c70bbe9f9d9": {
       "attrs": {
        "height": 0.8,
        "width": 0.8,
        "x": 0.1,
        "y": 0.1
       },
       "content": {
        "cell": "7f346681-4090-452e-af69-99be5573d864",
        "part": "whole"
       },
       "id": "badc6664-7d4f-4c22-8974-7c70bbe9f9d9"
      }
     }
    },
    "aa7b2c26-115d-4b79-92a1-12f29dac74bf": {
     "id": "aa7b2c26-115d-4b79-92a1-12f29dac74bf",
     "prev": "3482efdb-e820-47c5-b3a4-7ce32311a574",
     "regions": {
      "d3285d0e-1f68-49a0-ad64-75f3b6daad96": {
       "attrs": {
        "height": 0.8,
        "width": 0.8,
        "x": 0.1,
        "y": 0.1
       },
       "content": {
        "cell": "359485d8-1d93-4a57-8a14-124bbabbef74",
        "part": "whole"
       },
       "id": "d3285d0e-1f68-49a0-ad64-75f3b6daad96"
      }
     }
    },
    "c04bb119-2cfa-4723-a260-d6042404aed3": {
     "id": "c04bb119-2cfa-4723-a260-d6042404aed3",
     "prev": "3b16143b-345f-4791-a3a3-10b587ff9110",
     "regions": {
      "9689d0ac-324a-493e-9dff-aaa60333e333": {
       "attrs": {
        "height": 0.8,
        "width": 0.8,
        "x": 0.1,
        "y": 0.1
       },
       "content": {
        "cell": "9643fdd7-9c52-443d-8ed2-72a15958058d",
        "part": "whole"
       },
       "id": "9689d0ac-324a-493e-9dff-aaa60333e333"
      }
     }
    },
    "c149450d-0756-4367-b112-200a68262306": {
     "id": "c149450d-0756-4367-b112-200a68262306",
     "prev": "a214562f-62c5-4e05-b74f-14cfa79f7429",
     "regions": {
      "950b9984-2e68-4803-8282-b2db0b3cb852": {
       "attrs": {
        "height": 0.8,
        "width": 0.8,
        "x": 0.1,
        "y": 0.1
       },
       "content": {
        "cell": "faa6c23d-c453-4c60-9d82-7aedd74dfac3",
        "part": "whole"
       },
       "id": "950b9984-2e68-4803-8282-b2db0b3cb852"
      }
     }
    },
    "c5b263fd-89c6-499a-97e2-43e4c300eb0e": {
     "id": "c5b263fd-89c6-499a-97e2-43e4c300eb0e",
     "prev": "6e7129b5-af38-4bcc-b7bb-69d1ff8d506d",
     "regions": {
      "47ef9d85-2410-4ae1-b14a-7f5938b3b1e7": {
       "attrs": {
        "height": 0.8,
        "width": 0.8,
        "x": 0.1,
        "y": 0.1
       },
       "content": {
        "cell": "0717b7af-24c7-4ef5-8320-32f614e1100b",
        "part": "whole"
       },
       "id": "47ef9d85-2410-4ae1-b14a-7f5938b3b1e7"
      }
     }
    },
    "cc35be37-82f3-4924-b584-b12603dccf1f": {
     "id": "cc35be37-82f3-4924-b584-b12603dccf1f",
     "prev": "a2aa2df4-c4fe-4b8c-84bc-35ae396bf7be",
     "regions": {
      "ac604e2d-9ad2-49cb-87c2-8e7fbb7e31bd": {
       "attrs": {
        "height": 0.8,
        "width": 0.8,
        "x": 0.1,
        "y": 0.1
       },
       "content": {
        "cell": "2875f3ad-1f68-428b-ae08-9b3238380757",
        "part": "whole"
       },
       "id": "ac604e2d-9ad2-49cb-87c2-8e7fbb7e31bd"
      }
     }
    },
    "ceee6bdd-49ee-4137-9e44-886e1fb18d2d": {
     "id": "ceee6bdd-49ee-4137-9e44-886e1fb18d2d",
     "prev": "c5b263fd-89c6-499a-97e2-43e4c300eb0e",
     "regions": {
      "d9909c6d-8233-4e03-812b-237ffde965cd": {
       "attrs": {
        "height": 0.8,
        "width": 0.8,
        "x": 0.1,
        "y": 0.1
       },
       "content": {
        "cell": "433515b0-7cd1-4874-816b-60393d4bb0b1",
        "part": "whole"
       },
       "id": "d9909c6d-8233-4e03-812b-237ffde965cd"
      }
     }
    },
    "d228f94b-161b-4fde-99f9-f45b2fa681f1": {
     "id": "d228f94b-161b-4fde-99f9-f45b2fa681f1",
     "prev": "c149450d-0756-4367-b112-200a68262306",
     "regions": {
      "9d3d0b1d-d5b7-4cc0-aa58-3566be76b4e6": {
       "attrs": {
        "height": 0.8,
        "width": 0.8,
        "x": 0.1,
        "y": 0.1
       },
       "content": {
        "cell": "cd299d03-59f7-426a-b840-fe88e398c513",
        "part": "whole"
       },
       "id": "9d3d0b1d-d5b7-4cc0-aa58-3566be76b4e6"
      }
     }
    },
    "d5c419a6-51b1-412f-87ca-f7bbd05303e2": {
     "id": "d5c419a6-51b1-412f-87ca-f7bbd05303e2",
     "prev": "f64e4e37-e2c5-4263-9315-d98276e15016",
     "regions": {
      "91560e45-a83a-4253-968a-95f29e46a029": {
       "attrs": {
        "height": 0.8,
        "width": 0.8,
        "x": 0.1,
        "y": 0.1
       },
       "content": {
        "cell": "0eaf3229-cf0a-4c07-8bf3-bb46e16442d3",
        "part": "whole"
       },
       "id": "91560e45-a83a-4253-968a-95f29e46a029"
      }
     }
    },
    "dc06d0b7-5f04-4f39-89bd-19a7318ead38": {
     "id": "dc06d0b7-5f04-4f39-89bd-19a7318ead38",
     "prev": "7469d861-eabd-49db-b9f8-e41a56498cd9",
     "regions": {
      "c08c461e-36bf-4b16-831d-5a102cc0ea80": {
       "attrs": {
        "height": 0.8,
        "width": 0.8,
        "x": 0.1,
        "y": 0.1
       },
       "content": {
        "cell": "9a67b3bd-8cdb-43a6-9684-3a0f8eb6dc81",
        "part": "whole"
       },
       "id": "c08c461e-36bf-4b16-831d-5a102cc0ea80"
      }
     }
    },
    "e715fe77-7a74-41a1-8f86-ebf3b1648cc6": {
     "id": "e715fe77-7a74-41a1-8f86-ebf3b1648cc6",
     "prev": "81122c4a-0eb3-459f-9f79-69fcd84b700f",
     "regions": {
      "ed00eec8-c194-4328-a3e9-202b017a2742": {
       "attrs": {
        "height": 0.8,
        "width": 0.8,
        "x": 0.1,
        "y": 0.1
       },
       "content": {
        "cell": "ce862f27-c011-4529-9da8-376aab068a87",
        "part": "whole"
       },
       "id": "ed00eec8-c194-4328-a3e9-202b017a2742"
      }
     }
    },
    "ec1b683e-4a20-46c5-af4d-ddd69b7d6e80": {
     "id": "ec1b683e-4a20-46c5-af4d-ddd69b7d6e80",
     "prev": "37132466-ba4b-47b3-ba2d-5bc768003c10",
     "regions": {
      "34c80b18-4c49-4fb8-87f5-a59d3cde7d7b": {
       "attrs": {
        "height": 0.8,
        "width": 0.8,
        "x": 0.1,
        "y": 0.1
       },
       "content": {
        "cell": "89206e5c-69d6-457a-93bb-2cc91c9962c7",
        "part": "whole"
       },
       "id": "34c80b18-4c49-4fb8-87f5-a59d3cde7d7b"
      }
     }
    },
    "f64e4e37-e2c5-4263-9315-d98276e15016": {
     "id": "f64e4e37-e2c5-4263-9315-d98276e15016",
     "prev": "e715fe77-7a74-41a1-8f86-ebf3b1648cc6",
     "regions": {
      "1a6ca068-687a-4b84-8001-9552c748f820": {
       "attrs": {
        "height": 0.8,
        "width": 0.8,
        "x": 0.1,
        "y": 0.1
       },
       "content": {
        "cell": "733ad80e-45d8-4d0a-a286-412ff2a4de7b",
        "part": "whole"
       },
       "id": "1a6ca068-687a-4b84-8001-9552c748f820"
      }
     }
    }
   },
   "themes": {}
  }
 },
 "nbformat": 4,
 "nbformat_minor": 0
}
