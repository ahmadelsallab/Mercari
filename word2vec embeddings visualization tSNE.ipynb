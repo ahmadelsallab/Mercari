{
 "cells": [
  {
   "cell_type": "code",
   "execution_count": 1,
   "metadata": {
    "_cell_guid": "cdbda8d0-c7d3-4b4e-bbc9-c7c0cab0929e",
    "_uuid": "e11ed77faab1f23f2aed06d815863c075bc956f0",
    "collapsed": false
   },
   "outputs": [
    {
     "name": "stderr",
     "output_type": "stream",
     "text": [
      "C:\\Anaconda3\\lib\\site-packages\\gensim\\utils.py:1167: UserWarning: detected Windows; aliasing chunkize to chunkize_serial\n",
      "  warnings.warn(\"detected Windows; aliasing chunkize to chunkize_serial\")\n"
     ]
    }
   ],
   "source": [
    "import numpy as np\n",
    "import pandas as pd # data processing, CSV file I/O (e.g. pd.read_csv)\n",
    "import re, itertools, random\n",
    "import matplotlib.pyplot as plt\n",
    "import time\n",
    "\n",
    "from gensim.models import word2vec\n",
    "from sklearn.manifold import TSNE\n",
    "\n",
    "from sklearn.cluster import KMeans\n",
    "\n",
    "from scipy.spatial.distance import cdist"
   ]
  },
  {
   "cell_type": "code",
   "execution_count": 2,
   "metadata": {
    "_cell_guid": "6b1e474f-77f5-4d3d-8e47-407b5338e4e5",
    "_uuid": "78eff2bd8dcbd9b5a9343a29bdce92f69a8d920b",
    "collapsed": false
   },
   "outputs": [
    {
     "name": "stdout",
     "output_type": "stream",
     "text": [
      "Read input\n"
     ]
    }
   ],
   "source": [
    "def read_data():\n",
    "    global input_train, input_test\n",
    "    # Read full training and test sets\n",
    "    input_train = pd.read_csv(\"../../dat/train.tsv\", sep = \"\\t\")\n",
    "    input_test = pd.read_csv(\"../../dat/test.tsv\", sep = \"\\t\")\n",
    "    print(\"Read input\")\n",
    "\n",
    "# Read the raw data\n",
    "read_data()"
   ]
  },
  {
   "cell_type": "markdown",
   "metadata": {
    "_cell_guid": "be5f852c-1f59-4070-a3d8-afe37a2800a7",
    "_uuid": "ec213c574ae2f2268cf33f83b7631b404dbe7df3"
   },
   "source": [
    "List sentences"
   ]
  },
  {
   "cell_type": "code",
   "execution_count": 3,
   "metadata": {
    "collapsed": true
   },
   "outputs": [],
   "source": [
    "def clean(text):\n",
    "    \"\"\"Remove posting header, split by sentences and words, keep only letters\"\"\"\n",
    "    lines = re.split('[?!.:]\\s', re.sub('^.*Lines: \\d+', '', re.sub('\\n', ' ', text)))\n",
    "    return [re.sub('[^a-zA-Z]', ' ', line).lower().split() for line in lines]"
   ]
  },
  {
   "cell_type": "code",
   "execution_count": 4,
   "metadata": {
    "_cell_guid": "6875efac-fa48-43e4-acc1-56c01c57470d",
    "_uuid": "d6c5148f5ed0a4d1be95ef0453f82cbed16a5628",
    "collapsed": true
   },
   "outputs": [],
   "source": [
    "sentences = [s for s in [s.strip().lower().split(\" \") for i in input_train[\"item_description\"].values for s in re.split(\"\\.\", str(i))] if len(s) > 2]"
   ]
  },
  {
   "cell_type": "markdown",
   "metadata": {
    "_cell_guid": "110df346-3709-4312-9e0d-0f4c61bcbfdc",
    "_uuid": "6cdbbee2314413eb9ed0f6d38bf239be18224d8d"
   },
   "source": [
    "Train word2vec model with embedding vector size 20 and word to word contingency window of 5."
   ]
  },
  {
   "cell_type": "code",
   "execution_count": 5,
   "metadata": {
    "_cell_guid": "496892ce-2bd6-46f8-88f4-954167b7df84",
    "_uuid": "16db235496b89b7a92badd3f7daaf6f005b58c96",
    "collapsed": false
   },
   "outputs": [
    {
     "name": "stdout",
     "output_type": "stream",
     "text": [
      "Trained word2vec model in 8m 27s.\n"
     ]
    }
   ],
   "source": [
    "embedding_size = 20\n",
    "starttime = time.time()\n",
    "model = word2vec.Word2Vec(sentences, size=embedding_size, window=5, min_count=5, workers=4)\n",
    "endtime = time.time()\n",
    "print(\"Trained word2vec model in \" + str(int(np.floor((endtime - starttime)/60))) + \"m \" + str(int((endtime - starttime)%60)) + \"s.\")"
   ]
  },
  {
   "cell_type": "markdown",
   "metadata": {
    "_cell_guid": "0b94aeb5-d08d-4316-b946-c01fa26c923e",
    "_uuid": "a2d9e451b543d6b474003526b0b73190c0409ea3"
   },
   "source": [
    "Lookup some words and their nearest contextual siblings in embedding vector space. Seems to make a lot of sense :-)"
   ]
  },
  {
   "cell_type": "code",
   "execution_count": 6,
   "metadata": {
    "_cell_guid": "aa5baf6f-f268-4540-bf2d-b7b04b5ceb1d",
    "_uuid": "685076c5a7286c52fa922b55bc49c7bcae999376",
    "collapsed": false
   },
   "outputs": [
    {
     "name": "stdout",
     "output_type": "stream",
     "text": [
      "shorts\n",
      "('pants', 0.9772350788116455)\n",
      "('capris', 0.9650174379348755)\n",
      "('pant', 0.923183023929596)\n",
      "('crops', 0.9200932383537292)\n",
      "('sweats', 0.9179499745368958)\n",
      "('sweatpants', 0.9156811237335205)\n",
      "('tights', 0.9104116559028625)\n",
      "('pant,', 0.9068605899810791)\n",
      "('shorts!', 0.9006787538528442)\n",
      "('tops', 0.8930093050003052)\n",
      "xbox\n",
      "('wii', 0.8829836249351501)\n",
      "('sony', 0.871570348739624)\n",
      "('ps4', 0.8425512313842773)\n",
      "('slimmest,', 0.8347933888435364)\n",
      "('controller', 0.83165043592453)\n",
      "('console', 0.7884513735771179)\n",
      "('controllers', 0.7862071394920349)\n",
      "('playstation', 0.7765994071960449)\n",
      "('ds', 0.7704274654388428)\n",
      "('kinect', 0.7600642442703247)\n",
      "shoes\n",
      "('sneakers', 0.88148033618927)\n",
      "('sneaker', 0.8423055410385132)\n",
      "('boots', 0.8322505950927734)\n",
      "('sandals', 0.8286818861961365)\n",
      "('shoes!', 0.8000724911689758)\n",
      "('booties', 0.7979959845542908)\n",
      "('skechers', 0.795136570930481)\n",
      "('shoe', 0.7852073907852173)\n",
      "('toddler', 0.7826910614967346)\n",
      "('converse', 0.7734361886978149)\n"
     ]
    }
   ],
   "source": [
    "lookup_words = [\"shorts\", \"xbox\", \"shoes\"]\n",
    "words_to_visualize = [] # Save for visualization below\n",
    "\n",
    "for w in lookup_words:\n",
    "    print(w)\n",
    "    for s in model.wv.most_similar([w]):\n",
    "        print(s)\n",
    "        words_to_visualize.append(s[0])"
   ]
  },
  {
   "cell_type": "markdown",
   "metadata": {
    "_cell_guid": "5b2194f4-7dd9-43dd-8515-5f53f3fbde57",
    "_uuid": "e0be6468e7a0fe0165d0fddadcdd97f74f10d5ba"
   },
   "source": [
    "Let's visualize the embeddings by projecting embeddings in 2-dimensional space using t-SNE."
   ]
  },
  {
   "cell_type": "code",
   "execution_count": 7,
   "metadata": {
    "collapsed": false
   },
   "outputs": [
    {
     "name": "stderr",
     "output_type": "stream",
     "text": [
      "C:\\Anaconda3\\lib\\site-packages\\ipykernel\\__main__.py:1: DeprecationWarning: Call to deprecated `__getitem__` (Method will be removed in 4.0.0, use self.wv.__getitem__() instead).\n",
      "  if __name__ == '__main__':\n"
     ]
    },
    {
     "ename": "MemoryError",
     "evalue": "could not allocate 32768000 bytes",
     "output_type": "error",
     "traceback": [
      "\u001b[0;31m---------------------------------------------------------------------------\u001b[0m",
      "\u001b[0;31mMemoryError\u001b[0m                               Traceback (most recent call last)",
      "\u001b[0;32msklearn\\neighbors\\quad_tree.pyx\u001b[0m in \u001b[0;36msklearn.neighbors.quad_tree._QuadTree._resize\u001b[0;34m()\u001b[0m\n",
      "\u001b[0;32msklearn\\neighbors\\quad_tree.pyx\u001b[0m in \u001b[0;36msklearn.neighbors.quad_tree._QuadTree._resize_c\u001b[0;34m()\u001b[0m\n",
      "\u001b[0;32msklearn\\tree\\_utils.pyx\u001b[0m in \u001b[0;36msklearn.tree._utils.safe_realloc\u001b[0;34m()\u001b[0m\n",
      "\u001b[0;31mMemoryError\u001b[0m: could not allocate 32768000 bytes"
     ]
    },
    {
     "name": "stderr",
     "output_type": "stream",
     "text": [
      "Exception ignored in: 'sklearn.neighbors.quad_tree._QuadTree._insert_point_in_new_child'\n",
      "Traceback (most recent call last):\n",
      "  File \"sklearn\\neighbors\\quad_tree.pyx\", line 588, in sklearn.neighbors.quad_tree._QuadTree._resize\n",
      "  File \"sklearn\\neighbors\\quad_tree.pyx\", line 608, in sklearn.neighbors.quad_tree._QuadTree._resize_c\n",
      "  File \"sklearn\\tree\\_utils.pyx\", line 39, in sklearn.tree._utils.safe_realloc\n",
      "MemoryError: could not allocate 32768000 bytes\n"
     ]
    },
    {
     "ename": "MemoryError",
     "evalue": "could not allocate 32768000 bytes",
     "output_type": "error",
     "traceback": [
      "\u001b[0;31m---------------------------------------------------------------------------\u001b[0m",
      "\u001b[0;31mMemoryError\u001b[0m                               Traceback (most recent call last)",
      "\u001b[0;32msklearn\\neighbors\\quad_tree.pyx\u001b[0m in \u001b[0;36msklearn.neighbors.quad_tree._QuadTree._resize\u001b[0;34m()\u001b[0m\n",
      "\u001b[0;32msklearn\\neighbors\\quad_tree.pyx\u001b[0m in \u001b[0;36msklearn.neighbors.quad_tree._QuadTree._resize_c\u001b[0;34m()\u001b[0m\n",
      "\u001b[0;32msklearn\\tree\\_utils.pyx\u001b[0m in \u001b[0;36msklearn.tree._utils.safe_realloc\u001b[0;34m()\u001b[0m\n",
      "\u001b[0;31mMemoryError\u001b[0m: could not allocate 32768000 bytes"
     ]
    },
    {
     "name": "stderr",
     "output_type": "stream",
     "text": [
      "Exception ignored in: 'sklearn.neighbors.quad_tree._QuadTree._insert_point_in_new_child'\n",
      "Traceback (most recent call last):\n",
      "  File \"sklearn\\neighbors\\quad_tree.pyx\", line 588, in sklearn.neighbors.quad_tree._QuadTree._resize\n",
      "  File \"sklearn\\neighbors\\quad_tree.pyx\", line 608, in sklearn.neighbors.quad_tree._QuadTree._resize_c\n",
      "  File \"sklearn\\tree\\_utils.pyx\", line 39, in sklearn.tree._utils.safe_realloc\n",
      "MemoryError: could not allocate 32768000 bytes\n"
     ]
    },
    {
     "ename": "MemoryError",
     "evalue": "could not allocate 32768000 bytes",
     "output_type": "error",
     "traceback": [
      "\u001b[0;31m---------------------------------------------------------------------------\u001b[0m",
      "\u001b[0;31mMemoryError\u001b[0m                               Traceback (most recent call last)",
      "\u001b[0;32msklearn\\neighbors\\quad_tree.pyx\u001b[0m in \u001b[0;36msklearn.neighbors.quad_tree._QuadTree._resize\u001b[0;34m()\u001b[0m\n",
      "\u001b[0;32msklearn\\neighbors\\quad_tree.pyx\u001b[0m in \u001b[0;36msklearn.neighbors.quad_tree._QuadTree._resize_c\u001b[0;34m()\u001b[0m\n",
      "\u001b[0;32msklearn\\tree\\_utils.pyx\u001b[0m in \u001b[0;36msklearn.tree._utils.safe_realloc\u001b[0;34m()\u001b[0m\n",
      "\u001b[0;31mMemoryError\u001b[0m: could not allocate 32768000 bytes"
     ]
    },
    {
     "name": "stderr",
     "output_type": "stream",
     "text": [
      "Exception ignored in: 'sklearn.neighbors.quad_tree._QuadTree._insert_point_in_new_child'\n",
      "Traceback (most recent call last):\n",
      "  File \"sklearn\\neighbors\\quad_tree.pyx\", line 588, in sklearn.neighbors.quad_tree._QuadTree._resize\n",
      "  File \"sklearn\\neighbors\\quad_tree.pyx\", line 608, in sklearn.neighbors.quad_tree._QuadTree._resize_c\n",
      "  File \"sklearn\\tree\\_utils.pyx\", line 39, in sklearn.tree._utils.safe_realloc\n",
      "MemoryError: could not allocate 32768000 bytes\n"
     ]
    },
    {
     "ename": "MemoryError",
     "evalue": "could not allocate 32768000 bytes",
     "output_type": "error",
     "traceback": [
      "\u001b[0;31m---------------------------------------------------------------------------\u001b[0m",
      "\u001b[0;31mMemoryError\u001b[0m                               Traceback (most recent call last)",
      "\u001b[0;32msklearn\\neighbors\\quad_tree.pyx\u001b[0m in \u001b[0;36msklearn.neighbors.quad_tree._QuadTree._resize\u001b[0;34m()\u001b[0m\n",
      "\u001b[0;32msklearn\\neighbors\\quad_tree.pyx\u001b[0m in \u001b[0;36msklearn.neighbors.quad_tree._QuadTree._resize_c\u001b[0;34m()\u001b[0m\n",
      "\u001b[0;32msklearn\\tree\\_utils.pyx\u001b[0m in \u001b[0;36msklearn.tree._utils.safe_realloc\u001b[0;34m()\u001b[0m\n",
      "\u001b[0;31mMemoryError\u001b[0m: could not allocate 32768000 bytes"
     ]
    },
    {
     "name": "stderr",
     "output_type": "stream",
     "text": [
      "Exception ignored in: 'sklearn.neighbors.quad_tree._QuadTree._insert_point_in_new_child'\n",
      "Traceback (most recent call last):\n",
      "  File \"sklearn\\neighbors\\quad_tree.pyx\", line 588, in sklearn.neighbors.quad_tree._QuadTree._resize\n",
      "  File \"sklearn\\neighbors\\quad_tree.pyx\", line 608, in sklearn.neighbors.quad_tree._QuadTree._resize_c\n",
      "  File \"sklearn\\tree\\_utils.pyx\", line 39, in sklearn.tree._utils.safe_realloc\n",
      "MemoryError: could not allocate 32768000 bytes\n"
     ]
    },
    {
     "ename": "MemoryError",
     "evalue": "could not allocate 32768000 bytes",
     "output_type": "error",
     "traceback": [
      "\u001b[0;31m---------------------------------------------------------------------------\u001b[0m",
      "\u001b[0;31mMemoryError\u001b[0m                               Traceback (most recent call last)",
      "\u001b[0;32msklearn\\neighbors\\quad_tree.pyx\u001b[0m in \u001b[0;36msklearn.neighbors.quad_tree._QuadTree._resize\u001b[0;34m()\u001b[0m\n",
      "\u001b[0;32msklearn\\neighbors\\quad_tree.pyx\u001b[0m in \u001b[0;36msklearn.neighbors.quad_tree._QuadTree._resize_c\u001b[0;34m()\u001b[0m\n",
      "\u001b[0;32msklearn\\tree\\_utils.pyx\u001b[0m in \u001b[0;36msklearn.tree._utils.safe_realloc\u001b[0;34m()\u001b[0m\n",
      "\u001b[0;31mMemoryError\u001b[0m: could not allocate 32768000 bytes"
     ]
    },
    {
     "name": "stderr",
     "output_type": "stream",
     "text": [
      "Exception ignored in: 'sklearn.neighbors.quad_tree._QuadTree._insert_point_in_new_child'\n",
      "Traceback (most recent call last):\n",
      "  File \"sklearn\\neighbors\\quad_tree.pyx\", line 588, in sklearn.neighbors.quad_tree._QuadTree._resize\n",
      "  File \"sklearn\\neighbors\\quad_tree.pyx\", line 608, in sklearn.neighbors.quad_tree._QuadTree._resize_c\n",
      "  File \"sklearn\\tree\\_utils.pyx\", line 39, in sklearn.tree._utils.safe_realloc\n",
      "MemoryError: could not allocate 32768000 bytes\n"
     ]
    },
    {
     "ename": "MemoryError",
     "evalue": "could not allocate 32768000 bytes",
     "output_type": "error",
     "traceback": [
      "\u001b[0;31m---------------------------------------------------------------------------\u001b[0m",
      "\u001b[0;31mMemoryError\u001b[0m                               Traceback (most recent call last)",
      "\u001b[0;32msklearn\\neighbors\\quad_tree.pyx\u001b[0m in \u001b[0;36msklearn.neighbors.quad_tree._QuadTree._resize\u001b[0;34m()\u001b[0m\n",
      "\u001b[0;32msklearn\\neighbors\\quad_tree.pyx\u001b[0m in \u001b[0;36msklearn.neighbors.quad_tree._QuadTree._resize_c\u001b[0;34m()\u001b[0m\n",
      "\u001b[0;32msklearn\\tree\\_utils.pyx\u001b[0m in \u001b[0;36msklearn.tree._utils.safe_realloc\u001b[0;34m()\u001b[0m\n",
      "\u001b[0;31mMemoryError\u001b[0m: could not allocate 32768000 bytes"
     ]
    },
    {
     "name": "stderr",
     "output_type": "stream",
     "text": [
      "Exception ignored in: 'sklearn.neighbors.quad_tree._QuadTree._insert_point_in_new_child'\n",
      "Traceback (most recent call last):\n",
      "  File \"sklearn\\neighbors\\quad_tree.pyx\", line 588, in sklearn.neighbors.quad_tree._QuadTree._resize\n",
      "  File \"sklearn\\neighbors\\quad_tree.pyx\", line 608, in sklearn.neighbors.quad_tree._QuadTree._resize_c\n",
      "  File \"sklearn\\tree\\_utils.pyx\", line 39, in sklearn.tree._utils.safe_realloc\n",
      "MemoryError: could not allocate 32768000 bytes\n"
     ]
    },
    {
     "ename": "MemoryError",
     "evalue": "could not allocate 32768000 bytes",
     "output_type": "error",
     "traceback": [
      "\u001b[0;31m---------------------------------------------------------------------------\u001b[0m",
      "\u001b[0;31mMemoryError\u001b[0m                               Traceback (most recent call last)",
      "\u001b[0;32msklearn\\neighbors\\quad_tree.pyx\u001b[0m in \u001b[0;36msklearn.neighbors.quad_tree._QuadTree._resize\u001b[0;34m()\u001b[0m\n",
      "\u001b[0;32msklearn\\neighbors\\quad_tree.pyx\u001b[0m in \u001b[0;36msklearn.neighbors.quad_tree._QuadTree._resize_c\u001b[0;34m()\u001b[0m\n",
      "\u001b[0;32msklearn\\tree\\_utils.pyx\u001b[0m in \u001b[0;36msklearn.tree._utils.safe_realloc\u001b[0;34m()\u001b[0m\n",
      "\u001b[0;31mMemoryError\u001b[0m: could not allocate 32768000 bytes"
     ]
    },
    {
     "name": "stderr",
     "output_type": "stream",
     "text": [
      "Exception ignored in: 'sklearn.neighbors.quad_tree._QuadTree._insert_point_in_new_child'\n",
      "Traceback (most recent call last):\n",
      "  File \"sklearn\\neighbors\\quad_tree.pyx\", line 588, in sklearn.neighbors.quad_tree._QuadTree._resize\n",
      "  File \"sklearn\\neighbors\\quad_tree.pyx\", line 608, in sklearn.neighbors.quad_tree._QuadTree._resize_c\n",
      "  File \"sklearn\\tree\\_utils.pyx\", line 39, in sklearn.tree._utils.safe_realloc\n",
      "MemoryError: could not allocate 32768000 bytes\n"
     ]
    },
    {
     "ename": "MemoryError",
     "evalue": "could not allocate 32768000 bytes",
     "output_type": "error",
     "traceback": [
      "\u001b[0;31m---------------------------------------------------------------------------\u001b[0m",
      "\u001b[0;31mMemoryError\u001b[0m                               Traceback (most recent call last)",
      "\u001b[0;32msklearn\\neighbors\\quad_tree.pyx\u001b[0m in \u001b[0;36msklearn.neighbors.quad_tree._QuadTree._resize\u001b[0;34m()\u001b[0m\n",
      "\u001b[0;32msklearn\\neighbors\\quad_tree.pyx\u001b[0m in \u001b[0;36msklearn.neighbors.quad_tree._QuadTree._resize_c\u001b[0;34m()\u001b[0m\n",
      "\u001b[0;32msklearn\\tree\\_utils.pyx\u001b[0m in \u001b[0;36msklearn.tree._utils.safe_realloc\u001b[0;34m()\u001b[0m\n",
      "\u001b[0;31mMemoryError\u001b[0m: could not allocate 32768000 bytes"
     ]
    },
    {
     "name": "stderr",
     "output_type": "stream",
     "text": [
      "Exception ignored in: 'sklearn.neighbors.quad_tree._QuadTree._insert_point_in_new_child'\n",
      "Traceback (most recent call last):\n",
      "  File \"sklearn\\neighbors\\quad_tree.pyx\", line 588, in sklearn.neighbors.quad_tree._QuadTree._resize\n",
      "  File \"sklearn\\neighbors\\quad_tree.pyx\", line 608, in sklearn.neighbors.quad_tree._QuadTree._resize_c\n",
      "  File \"sklearn\\tree\\_utils.pyx\", line 39, in sklearn.tree._utils.safe_realloc\n",
      "MemoryError: could not allocate 32768000 bytes\n"
     ]
    },
    {
     "ename": "MemoryError",
     "evalue": "could not allocate 32768000 bytes",
     "output_type": "error",
     "traceback": [
      "\u001b[0;31m---------------------------------------------------------------------------\u001b[0m",
      "\u001b[0;31mMemoryError\u001b[0m                               Traceback (most recent call last)",
      "\u001b[0;32msklearn\\neighbors\\quad_tree.pyx\u001b[0m in \u001b[0;36msklearn.neighbors.quad_tree._QuadTree._resize\u001b[0;34m()\u001b[0m\n",
      "\u001b[0;32msklearn\\neighbors\\quad_tree.pyx\u001b[0m in \u001b[0;36msklearn.neighbors.quad_tree._QuadTree._resize_c\u001b[0;34m()\u001b[0m\n",
      "\u001b[0;32msklearn\\tree\\_utils.pyx\u001b[0m in \u001b[0;36msklearn.tree._utils.safe_realloc\u001b[0;34m()\u001b[0m\n",
      "\u001b[0;31mMemoryError\u001b[0m: could not allocate 32768000 bytes"
     ]
    },
    {
     "name": "stderr",
     "output_type": "stream",
     "text": [
      "Exception ignored in: 'sklearn.neighbors.quad_tree._QuadTree._insert_point_in_new_child'\n",
      "Traceback (most recent call last):\n",
      "  File \"sklearn\\neighbors\\quad_tree.pyx\", line 588, in sklearn.neighbors.quad_tree._QuadTree._resize\n",
      "  File \"sklearn\\neighbors\\quad_tree.pyx\", line 608, in sklearn.neighbors.quad_tree._QuadTree._resize_c\n",
      "  File \"sklearn\\tree\\_utils.pyx\", line 39, in sklearn.tree._utils.safe_realloc\n",
      "MemoryError: could not allocate 32768000 bytes\n"
     ]
    },
    {
     "ename": "MemoryError",
     "evalue": "could not allocate 32768000 bytes",
     "output_type": "error",
     "traceback": [
      "\u001b[0;31m---------------------------------------------------------------------------\u001b[0m",
      "\u001b[0;31mMemoryError\u001b[0m                               Traceback (most recent call last)",
      "\u001b[0;32msklearn\\neighbors\\quad_tree.pyx\u001b[0m in \u001b[0;36msklearn.neighbors.quad_tree._QuadTree._resize\u001b[0;34m()\u001b[0m\n",
      "\u001b[0;32msklearn\\neighbors\\quad_tree.pyx\u001b[0m in \u001b[0;36msklearn.neighbors.quad_tree._QuadTree._resize_c\u001b[0;34m()\u001b[0m\n",
      "\u001b[0;32msklearn\\tree\\_utils.pyx\u001b[0m in \u001b[0;36msklearn.tree._utils.safe_realloc\u001b[0;34m()\u001b[0m\n",
      "\u001b[0;31mMemoryError\u001b[0m: could not allocate 32768000 bytes"
     ]
    },
    {
     "name": "stderr",
     "output_type": "stream",
     "text": [
      "Exception ignored in: 'sklearn.neighbors.quad_tree._QuadTree._insert_point_in_new_child'\n",
      "Traceback (most recent call last):\n",
      "  File \"sklearn\\neighbors\\quad_tree.pyx\", line 588, in sklearn.neighbors.quad_tree._QuadTree._resize\n",
      "  File \"sklearn\\neighbors\\quad_tree.pyx\", line 608, in sklearn.neighbors.quad_tree._QuadTree._resize_c\n",
      "  File \"sklearn\\tree\\_utils.pyx\", line 39, in sklearn.tree._utils.safe_realloc\n",
      "MemoryError: could not allocate 32768000 bytes\n"
     ]
    },
    {
     "ename": "MemoryError",
     "evalue": "could not allocate 32768000 bytes",
     "output_type": "error",
     "traceback": [
      "\u001b[0;31m---------------------------------------------------------------------------\u001b[0m",
      "\u001b[0;31mMemoryError\u001b[0m                               Traceback (most recent call last)",
      "\u001b[0;32msklearn\\neighbors\\quad_tree.pyx\u001b[0m in \u001b[0;36msklearn.neighbors.quad_tree._QuadTree._resize\u001b[0;34m()\u001b[0m\n",
      "\u001b[0;32msklearn\\neighbors\\quad_tree.pyx\u001b[0m in \u001b[0;36msklearn.neighbors.quad_tree._QuadTree._resize_c\u001b[0;34m()\u001b[0m\n",
      "\u001b[0;32msklearn\\tree\\_utils.pyx\u001b[0m in \u001b[0;36msklearn.tree._utils.safe_realloc\u001b[0;34m()\u001b[0m\n",
      "\u001b[0;31mMemoryError\u001b[0m: could not allocate 32768000 bytes"
     ]
    },
    {
     "name": "stderr",
     "output_type": "stream",
     "text": [
      "Exception ignored in: 'sklearn.neighbors.quad_tree._QuadTree._insert_point_in_new_child'\n",
      "Traceback (most recent call last):\n",
      "  File \"sklearn\\neighbors\\quad_tree.pyx\", line 588, in sklearn.neighbors.quad_tree._QuadTree._resize\n",
      "  File \"sklearn\\neighbors\\quad_tree.pyx\", line 608, in sklearn.neighbors.quad_tree._QuadTree._resize_c\n",
      "  File \"sklearn\\tree\\_utils.pyx\", line 39, in sklearn.tree._utils.safe_realloc\n",
      "MemoryError: could not allocate 32768000 bytes\n"
     ]
    },
    {
     "ename": "MemoryError",
     "evalue": "could not allocate 32768000 bytes",
     "output_type": "error",
     "traceback": [
      "\u001b[0;31m---------------------------------------------------------------------------\u001b[0m",
      "\u001b[0;31mMemoryError\u001b[0m                               Traceback (most recent call last)",
      "\u001b[0;32msklearn\\neighbors\\quad_tree.pyx\u001b[0m in \u001b[0;36msklearn.neighbors.quad_tree._QuadTree._resize\u001b[0;34m()\u001b[0m\n",
      "\u001b[0;32msklearn\\neighbors\\quad_tree.pyx\u001b[0m in \u001b[0;36msklearn.neighbors.quad_tree._QuadTree._resize_c\u001b[0;34m()\u001b[0m\n",
      "\u001b[0;32msklearn\\tree\\_utils.pyx\u001b[0m in \u001b[0;36msklearn.tree._utils.safe_realloc\u001b[0;34m()\u001b[0m\n",
      "\u001b[0;31mMemoryError\u001b[0m: could not allocate 32768000 bytes"
     ]
    },
    {
     "name": "stderr",
     "output_type": "stream",
     "text": [
      "Exception ignored in: 'sklearn.neighbors.quad_tree._QuadTree._insert_point_in_new_child'\n",
      "Traceback (most recent call last):\n",
      "  File \"sklearn\\neighbors\\quad_tree.pyx\", line 588, in sklearn.neighbors.quad_tree._QuadTree._resize\n",
      "  File \"sklearn\\neighbors\\quad_tree.pyx\", line 608, in sklearn.neighbors.quad_tree._QuadTree._resize_c\n",
      "  File \"sklearn\\tree\\_utils.pyx\", line 39, in sklearn.tree._utils.safe_realloc\n",
      "MemoryError: could not allocate 32768000 bytes\n"
     ]
    },
    {
     "ename": "MemoryError",
     "evalue": "could not allocate 32768000 bytes",
     "output_type": "error",
     "traceback": [
      "\u001b[0;31m---------------------------------------------------------------------------\u001b[0m",
      "\u001b[0;31mMemoryError\u001b[0m                               Traceback (most recent call last)",
      "\u001b[0;32msklearn\\neighbors\\quad_tree.pyx\u001b[0m in \u001b[0;36msklearn.neighbors.quad_tree._QuadTree._resize\u001b[0;34m()\u001b[0m\n",
      "\u001b[0;32msklearn\\neighbors\\quad_tree.pyx\u001b[0m in \u001b[0;36msklearn.neighbors.quad_tree._QuadTree._resize_c\u001b[0;34m()\u001b[0m\n",
      "\u001b[0;32msklearn\\tree\\_utils.pyx\u001b[0m in \u001b[0;36msklearn.tree._utils.safe_realloc\u001b[0;34m()\u001b[0m\n",
      "\u001b[0;31mMemoryError\u001b[0m: could not allocate 32768000 bytes"
     ]
    },
    {
     "name": "stderr",
     "output_type": "stream",
     "text": [
      "Exception ignored in: 'sklearn.neighbors.quad_tree._QuadTree._insert_point_in_new_child'\n",
      "Traceback (most recent call last):\n",
      "  File \"sklearn\\neighbors\\quad_tree.pyx\", line 588, in sklearn.neighbors.quad_tree._QuadTree._resize\n",
      "  File \"sklearn\\neighbors\\quad_tree.pyx\", line 608, in sklearn.neighbors.quad_tree._QuadTree._resize_c\n",
      "  File \"sklearn\\tree\\_utils.pyx\", line 39, in sklearn.tree._utils.safe_realloc\n",
      "MemoryError: could not allocate 32768000 bytes\n"
     ]
    },
    {
     "ename": "MemoryError",
     "evalue": "could not allocate 32768000 bytes",
     "output_type": "error",
     "traceback": [
      "\u001b[0;31m---------------------------------------------------------------------------\u001b[0m",
      "\u001b[0;31mMemoryError\u001b[0m                               Traceback (most recent call last)",
      "\u001b[0;32msklearn\\neighbors\\quad_tree.pyx\u001b[0m in \u001b[0;36msklearn.neighbors.quad_tree._QuadTree._resize\u001b[0;34m()\u001b[0m\n",
      "\u001b[0;32msklearn\\neighbors\\quad_tree.pyx\u001b[0m in \u001b[0;36msklearn.neighbors.quad_tree._QuadTree._resize_c\u001b[0;34m()\u001b[0m\n",
      "\u001b[0;32msklearn\\tree\\_utils.pyx\u001b[0m in \u001b[0;36msklearn.tree._utils.safe_realloc\u001b[0;34m()\u001b[0m\n",
      "\u001b[0;31mMemoryError\u001b[0m: could not allocate 32768000 bytes"
     ]
    },
    {
     "name": "stderr",
     "output_type": "stream",
     "text": [
      "Exception ignored in: 'sklearn.neighbors.quad_tree._QuadTree._insert_point_in_new_child'\n",
      "Traceback (most recent call last):\n",
      "  File \"sklearn\\neighbors\\quad_tree.pyx\", line 588, in sklearn.neighbors.quad_tree._QuadTree._resize\n",
      "  File \"sklearn\\neighbors\\quad_tree.pyx\", line 608, in sklearn.neighbors.quad_tree._QuadTree._resize_c\n",
      "  File \"sklearn\\tree\\_utils.pyx\", line 39, in sklearn.tree._utils.safe_realloc\n",
      "MemoryError: could not allocate 32768000 bytes\n"
     ]
    },
    {
     "ename": "MemoryError",
     "evalue": "could not allocate 32768000 bytes",
     "output_type": "error",
     "traceback": [
      "\u001b[0;31m---------------------------------------------------------------------------\u001b[0m",
      "\u001b[0;31mMemoryError\u001b[0m                               Traceback (most recent call last)",
      "\u001b[0;32msklearn\\neighbors\\quad_tree.pyx\u001b[0m in \u001b[0;36msklearn.neighbors.quad_tree._QuadTree._resize\u001b[0;34m()\u001b[0m\n",
      "\u001b[0;32msklearn\\neighbors\\quad_tree.pyx\u001b[0m in \u001b[0;36msklearn.neighbors.quad_tree._QuadTree._resize_c\u001b[0;34m()\u001b[0m\n",
      "\u001b[0;32msklearn\\tree\\_utils.pyx\u001b[0m in \u001b[0;36msklearn.tree._utils.safe_realloc\u001b[0;34m()\u001b[0m\n",
      "\u001b[0;31mMemoryError\u001b[0m: could not allocate 32768000 bytes"
     ]
    },
    {
     "name": "stderr",
     "output_type": "stream",
     "text": [
      "Exception ignored in: 'sklearn.neighbors.quad_tree._QuadTree._insert_point_in_new_child'\n",
      "Traceback (most recent call last):\n",
      "  File \"sklearn\\neighbors\\quad_tree.pyx\", line 588, in sklearn.neighbors.quad_tree._QuadTree._resize\n",
      "  File \"sklearn\\neighbors\\quad_tree.pyx\", line 608, in sklearn.neighbors.quad_tree._QuadTree._resize_c\n",
      "  File \"sklearn\\tree\\_utils.pyx\", line 39, in sklearn.tree._utils.safe_realloc\n",
      "MemoryError: could not allocate 32768000 bytes\n"
     ]
    },
    {
     "ename": "MemoryError",
     "evalue": "could not allocate 32768000 bytes",
     "output_type": "error",
     "traceback": [
      "\u001b[0;31m---------------------------------------------------------------------------\u001b[0m",
      "\u001b[0;31mMemoryError\u001b[0m                               Traceback (most recent call last)",
      "\u001b[0;32msklearn\\neighbors\\quad_tree.pyx\u001b[0m in \u001b[0;36msklearn.neighbors.quad_tree._QuadTree._resize\u001b[0;34m()\u001b[0m\n",
      "\u001b[0;32msklearn\\neighbors\\quad_tree.pyx\u001b[0m in \u001b[0;36msklearn.neighbors.quad_tree._QuadTree._resize_c\u001b[0;34m()\u001b[0m\n",
      "\u001b[0;32msklearn\\tree\\_utils.pyx\u001b[0m in \u001b[0;36msklearn.tree._utils.safe_realloc\u001b[0;34m()\u001b[0m\n",
      "\u001b[0;31mMemoryError\u001b[0m: could not allocate 32768000 bytes"
     ]
    },
    {
     "name": "stderr",
     "output_type": "stream",
     "text": [
      "Exception ignored in: 'sklearn.neighbors.quad_tree._QuadTree._insert_point_in_new_child'\n",
      "Traceback (most recent call last):\n",
      "  File \"sklearn\\neighbors\\quad_tree.pyx\", line 588, in sklearn.neighbors.quad_tree._QuadTree._resize\n",
      "  File \"sklearn\\neighbors\\quad_tree.pyx\", line 608, in sklearn.neighbors.quad_tree._QuadTree._resize_c\n",
      "  File \"sklearn\\tree\\_utils.pyx\", line 39, in sklearn.tree._utils.safe_realloc\n",
      "MemoryError: could not allocate 32768000 bytes\n"
     ]
    },
    {
     "ename": "MemoryError",
     "evalue": "could not allocate 32768000 bytes",
     "output_type": "error",
     "traceback": [
      "\u001b[0;31m---------------------------------------------------------------------------\u001b[0m",
      "\u001b[0;31mMemoryError\u001b[0m                               Traceback (most recent call last)",
      "\u001b[0;32msklearn\\neighbors\\quad_tree.pyx\u001b[0m in \u001b[0;36msklearn.neighbors.quad_tree._QuadTree._resize\u001b[0;34m()\u001b[0m\n",
      "\u001b[0;32msklearn\\neighbors\\quad_tree.pyx\u001b[0m in \u001b[0;36msklearn.neighbors.quad_tree._QuadTree._resize_c\u001b[0;34m()\u001b[0m\n",
      "\u001b[0;32msklearn\\tree\\_utils.pyx\u001b[0m in \u001b[0;36msklearn.tree._utils.safe_realloc\u001b[0;34m()\u001b[0m\n",
      "\u001b[0;31mMemoryError\u001b[0m: could not allocate 32768000 bytes"
     ]
    },
    {
     "name": "stderr",
     "output_type": "stream",
     "text": [
      "Exception ignored in: 'sklearn.neighbors.quad_tree._QuadTree._insert_point_in_new_child'\n",
      "Traceback (most recent call last):\n",
      "  File \"sklearn\\neighbors\\quad_tree.pyx\", line 588, in sklearn.neighbors.quad_tree._QuadTree._resize\n",
      "  File \"sklearn\\neighbors\\quad_tree.pyx\", line 608, in sklearn.neighbors.quad_tree._QuadTree._resize_c\n",
      "  File \"sklearn\\tree\\_utils.pyx\", line 39, in sklearn.tree._utils.safe_realloc\n",
      "MemoryError: could not allocate 32768000 bytes\n"
     ]
    },
    {
     "ename": "MemoryError",
     "evalue": "could not allocate 32768000 bytes",
     "output_type": "error",
     "traceback": [
      "\u001b[0;31m---------------------------------------------------------------------------\u001b[0m",
      "\u001b[0;31mMemoryError\u001b[0m                               Traceback (most recent call last)",
      "\u001b[0;32msklearn\\neighbors\\quad_tree.pyx\u001b[0m in \u001b[0;36msklearn.neighbors.quad_tree._QuadTree._resize\u001b[0;34m()\u001b[0m\n",
      "\u001b[0;32msklearn\\neighbors\\quad_tree.pyx\u001b[0m in \u001b[0;36msklearn.neighbors.quad_tree._QuadTree._resize_c\u001b[0;34m()\u001b[0m\n",
      "\u001b[0;32msklearn\\tree\\_utils.pyx\u001b[0m in \u001b[0;36msklearn.tree._utils.safe_realloc\u001b[0;34m()\u001b[0m\n",
      "\u001b[0;31mMemoryError\u001b[0m: could not allocate 32768000 bytes"
     ]
    },
    {
     "name": "stderr",
     "output_type": "stream",
     "text": [
      "Exception ignored in: 'sklearn.neighbors.quad_tree._QuadTree._insert_point_in_new_child'\n",
      "Traceback (most recent call last):\n",
      "  File \"sklearn\\neighbors\\quad_tree.pyx\", line 588, in sklearn.neighbors.quad_tree._QuadTree._resize\n",
      "  File \"sklearn\\neighbors\\quad_tree.pyx\", line 608, in sklearn.neighbors.quad_tree._QuadTree._resize_c\n",
      "  File \"sklearn\\tree\\_utils.pyx\", line 39, in sklearn.tree._utils.safe_realloc\n",
      "MemoryError: could not allocate 32768000 bytes\n"
     ]
    },
    {
     "ename": "MemoryError",
     "evalue": "could not allocate 32768000 bytes",
     "output_type": "error",
     "traceback": [
      "\u001b[0;31m---------------------------------------------------------------------------\u001b[0m",
      "\u001b[0;31mMemoryError\u001b[0m                               Traceback (most recent call last)",
      "\u001b[0;32msklearn\\neighbors\\quad_tree.pyx\u001b[0m in \u001b[0;36msklearn.neighbors.quad_tree._QuadTree._resize\u001b[0;34m()\u001b[0m\n",
      "\u001b[0;32msklearn\\neighbors\\quad_tree.pyx\u001b[0m in \u001b[0;36msklearn.neighbors.quad_tree._QuadTree._resize_c\u001b[0;34m()\u001b[0m\n",
      "\u001b[0;32msklearn\\tree\\_utils.pyx\u001b[0m in \u001b[0;36msklearn.tree._utils.safe_realloc\u001b[0;34m()\u001b[0m\n",
      "\u001b[0;31mMemoryError\u001b[0m: could not allocate 32768000 bytes"
     ]
    },
    {
     "name": "stderr",
     "output_type": "stream",
     "text": [
      "Exception ignored in: 'sklearn.neighbors.quad_tree._QuadTree._insert_point_in_new_child'\n",
      "Traceback (most recent call last):\n",
      "  File \"sklearn\\neighbors\\quad_tree.pyx\", line 588, in sklearn.neighbors.quad_tree._QuadTree._resize\n",
      "  File \"sklearn\\neighbors\\quad_tree.pyx\", line 608, in sklearn.neighbors.quad_tree._QuadTree._resize_c\n",
      "  File \"sklearn\\tree\\_utils.pyx\", line 39, in sklearn.tree._utils.safe_realloc\n",
      "MemoryError: could not allocate 32768000 bytes\n"
     ]
    },
    {
     "ename": "MemoryError",
     "evalue": "could not allocate 32768000 bytes",
     "output_type": "error",
     "traceback": [
      "\u001b[0;31m---------------------------------------------------------------------------\u001b[0m",
      "\u001b[0;31mMemoryError\u001b[0m                               Traceback (most recent call last)",
      "\u001b[0;32msklearn\\neighbors\\quad_tree.pyx\u001b[0m in \u001b[0;36msklearn.neighbors.quad_tree._QuadTree._resize\u001b[0;34m()\u001b[0m\n",
      "\u001b[0;32msklearn\\neighbors\\quad_tree.pyx\u001b[0m in \u001b[0;36msklearn.neighbors.quad_tree._QuadTree._resize_c\u001b[0;34m()\u001b[0m\n",
      "\u001b[0;32msklearn\\tree\\_utils.pyx\u001b[0m in \u001b[0;36msklearn.tree._utils.safe_realloc\u001b[0;34m()\u001b[0m\n",
      "\u001b[0;31mMemoryError\u001b[0m: could not allocate 32768000 bytes"
     ]
    },
    {
     "name": "stderr",
     "output_type": "stream",
     "text": [
      "Exception ignored in: 'sklearn.neighbors.quad_tree._QuadTree._insert_point_in_new_child'\n",
      "Traceback (most recent call last):\n",
      "  File \"sklearn\\neighbors\\quad_tree.pyx\", line 588, in sklearn.neighbors.quad_tree._QuadTree._resize\n",
      "  File \"sklearn\\neighbors\\quad_tree.pyx\", line 608, in sklearn.neighbors.quad_tree._QuadTree._resize_c\n",
      "  File \"sklearn\\tree\\_utils.pyx\", line 39, in sklearn.tree._utils.safe_realloc\n",
      "MemoryError: could not allocate 32768000 bytes\n"
     ]
    },
    {
     "ename": "MemoryError",
     "evalue": "could not allocate 32768000 bytes",
     "output_type": "error",
     "traceback": [
      "\u001b[0;31m---------------------------------------------------------------------------\u001b[0m",
      "\u001b[0;31mMemoryError\u001b[0m                               Traceback (most recent call last)",
      "\u001b[0;32msklearn\\neighbors\\quad_tree.pyx\u001b[0m in \u001b[0;36msklearn.neighbors.quad_tree._QuadTree._resize\u001b[0;34m()\u001b[0m\n",
      "\u001b[0;32msklearn\\neighbors\\quad_tree.pyx\u001b[0m in \u001b[0;36msklearn.neighbors.quad_tree._QuadTree._resize_c\u001b[0;34m()\u001b[0m\n",
      "\u001b[0;32msklearn\\tree\\_utils.pyx\u001b[0m in \u001b[0;36msklearn.tree._utils.safe_realloc\u001b[0;34m()\u001b[0m\n",
      "\u001b[0;31mMemoryError\u001b[0m: could not allocate 32768000 bytes"
     ]
    },
    {
     "name": "stderr",
     "output_type": "stream",
     "text": [
      "Exception ignored in: 'sklearn.neighbors.quad_tree._QuadTree._insert_point_in_new_child'\n",
      "Traceback (most recent call last):\n",
      "  File \"sklearn\\neighbors\\quad_tree.pyx\", line 588, in sklearn.neighbors.quad_tree._QuadTree._resize\n",
      "  File \"sklearn\\neighbors\\quad_tree.pyx\", line 608, in sklearn.neighbors.quad_tree._QuadTree._resize_c\n",
      "  File \"sklearn\\tree\\_utils.pyx\", line 39, in sklearn.tree._utils.safe_realloc\n",
      "MemoryError: could not allocate 32768000 bytes\n"
     ]
    },
    {
     "ename": "MemoryError",
     "evalue": "could not allocate 32768000 bytes",
     "output_type": "error",
     "traceback": [
      "\u001b[0;31m---------------------------------------------------------------------------\u001b[0m",
      "\u001b[0;31mMemoryError\u001b[0m                               Traceback (most recent call last)",
      "\u001b[0;32msklearn\\neighbors\\quad_tree.pyx\u001b[0m in \u001b[0;36msklearn.neighbors.quad_tree._QuadTree._resize\u001b[0;34m()\u001b[0m\n",
      "\u001b[0;32msklearn\\neighbors\\quad_tree.pyx\u001b[0m in \u001b[0;36msklearn.neighbors.quad_tree._QuadTree._resize_c\u001b[0;34m()\u001b[0m\n",
      "\u001b[0;32msklearn\\tree\\_utils.pyx\u001b[0m in \u001b[0;36msklearn.tree._utils.safe_realloc\u001b[0;34m()\u001b[0m\n",
      "\u001b[0;31mMemoryError\u001b[0m: could not allocate 32768000 bytes"
     ]
    },
    {
     "name": "stderr",
     "output_type": "stream",
     "text": [
      "Exception ignored in: 'sklearn.neighbors.quad_tree._QuadTree._insert_point_in_new_child'\n",
      "Traceback (most recent call last):\n",
      "  File \"sklearn\\neighbors\\quad_tree.pyx\", line 588, in sklearn.neighbors.quad_tree._QuadTree._resize\n",
      "  File \"sklearn\\neighbors\\quad_tree.pyx\", line 608, in sklearn.neighbors.quad_tree._QuadTree._resize_c\n",
      "  File \"sklearn\\tree\\_utils.pyx\", line 39, in sklearn.tree._utils.safe_realloc\n",
      "MemoryError: could not allocate 32768000 bytes\n"
     ]
    },
    {
     "ename": "MemoryError",
     "evalue": "could not allocate 32768000 bytes",
     "output_type": "error",
     "traceback": [
      "\u001b[0;31m---------------------------------------------------------------------------\u001b[0m",
      "\u001b[0;31mMemoryError\u001b[0m                               Traceback (most recent call last)",
      "\u001b[0;32msklearn\\neighbors\\quad_tree.pyx\u001b[0m in \u001b[0;36msklearn.neighbors.quad_tree._QuadTree._resize\u001b[0;34m()\u001b[0m\n",
      "\u001b[0;32msklearn\\neighbors\\quad_tree.pyx\u001b[0m in \u001b[0;36msklearn.neighbors.quad_tree._QuadTree._resize_c\u001b[0;34m()\u001b[0m\n",
      "\u001b[0;32msklearn\\tree\\_utils.pyx\u001b[0m in \u001b[0;36msklearn.tree._utils.safe_realloc\u001b[0;34m()\u001b[0m\n",
      "\u001b[0;31mMemoryError\u001b[0m: could not allocate 32768000 bytes"
     ]
    },
    {
     "name": "stderr",
     "output_type": "stream",
     "text": [
      "Exception ignored in: 'sklearn.neighbors.quad_tree._QuadTree._insert_point_in_new_child'\n",
      "Traceback (most recent call last):\n",
      "  File \"sklearn\\neighbors\\quad_tree.pyx\", line 588, in sklearn.neighbors.quad_tree._QuadTree._resize\n",
      "  File \"sklearn\\neighbors\\quad_tree.pyx\", line 608, in sklearn.neighbors.quad_tree._QuadTree._resize_c\n",
      "  File \"sklearn\\tree\\_utils.pyx\", line 39, in sklearn.tree._utils.safe_realloc\n",
      "MemoryError: could not allocate 32768000 bytes\n"
     ]
    },
    {
     "ename": "MemoryError",
     "evalue": "could not allocate 32768000 bytes",
     "output_type": "error",
     "traceback": [
      "\u001b[0;31m---------------------------------------------------------------------------\u001b[0m",
      "\u001b[0;31mMemoryError\u001b[0m                               Traceback (most recent call last)",
      "\u001b[0;32msklearn\\neighbors\\quad_tree.pyx\u001b[0m in \u001b[0;36msklearn.neighbors.quad_tree._QuadTree._resize\u001b[0;34m()\u001b[0m\n",
      "\u001b[0;32msklearn\\neighbors\\quad_tree.pyx\u001b[0m in \u001b[0;36msklearn.neighbors.quad_tree._QuadTree._resize_c\u001b[0;34m()\u001b[0m\n",
      "\u001b[0;32msklearn\\tree\\_utils.pyx\u001b[0m in \u001b[0;36msklearn.tree._utils.safe_realloc\u001b[0;34m()\u001b[0m\n",
      "\u001b[0;31mMemoryError\u001b[0m: could not allocate 32768000 bytes"
     ]
    },
    {
     "name": "stderr",
     "output_type": "stream",
     "text": [
      "Exception ignored in: 'sklearn.neighbors.quad_tree._QuadTree._insert_point_in_new_child'\n",
      "Traceback (most recent call last):\n",
      "  File \"sklearn\\neighbors\\quad_tree.pyx\", line 588, in sklearn.neighbors.quad_tree._QuadTree._resize\n",
      "  File \"sklearn\\neighbors\\quad_tree.pyx\", line 608, in sklearn.neighbors.quad_tree._QuadTree._resize_c\n",
      "  File \"sklearn\\tree\\_utils.pyx\", line 39, in sklearn.tree._utils.safe_realloc\n",
      "MemoryError: could not allocate 32768000 bytes\n"
     ]
    },
    {
     "ename": "MemoryError",
     "evalue": "could not allocate 32768000 bytes",
     "output_type": "error",
     "traceback": [
      "\u001b[0;31m---------------------------------------------------------------------------\u001b[0m",
      "\u001b[0;31mMemoryError\u001b[0m                               Traceback (most recent call last)",
      "\u001b[0;32msklearn\\neighbors\\quad_tree.pyx\u001b[0m in \u001b[0;36msklearn.neighbors.quad_tree._QuadTree._resize\u001b[0;34m()\u001b[0m\n",
      "\u001b[0;32msklearn\\neighbors\\quad_tree.pyx\u001b[0m in \u001b[0;36msklearn.neighbors.quad_tree._QuadTree._resize_c\u001b[0;34m()\u001b[0m\n",
      "\u001b[0;32msklearn\\tree\\_utils.pyx\u001b[0m in \u001b[0;36msklearn.tree._utils.safe_realloc\u001b[0;34m()\u001b[0m\n",
      "\u001b[0;31mMemoryError\u001b[0m: could not allocate 32768000 bytes"
     ]
    },
    {
     "name": "stderr",
     "output_type": "stream",
     "text": [
      "Exception ignored in: 'sklearn.neighbors.quad_tree._QuadTree._insert_point_in_new_child'\n",
      "Traceback (most recent call last):\n",
      "  File \"sklearn\\neighbors\\quad_tree.pyx\", line 588, in sklearn.neighbors.quad_tree._QuadTree._resize\n",
      "  File \"sklearn\\neighbors\\quad_tree.pyx\", line 608, in sklearn.neighbors.quad_tree._QuadTree._resize_c\n",
      "  File \"sklearn\\tree\\_utils.pyx\", line 39, in sklearn.tree._utils.safe_realloc\n",
      "MemoryError: could not allocate 32768000 bytes\n"
     ]
    },
    {
     "ename": "MemoryError",
     "evalue": "could not allocate 32768000 bytes",
     "output_type": "error",
     "traceback": [
      "\u001b[0;31m---------------------------------------------------------------------------\u001b[0m",
      "\u001b[0;31mMemoryError\u001b[0m                               Traceback (most recent call last)",
      "\u001b[0;32msklearn\\neighbors\\quad_tree.pyx\u001b[0m in \u001b[0;36msklearn.neighbors.quad_tree._QuadTree._resize\u001b[0;34m()\u001b[0m\n",
      "\u001b[0;32msklearn\\neighbors\\quad_tree.pyx\u001b[0m in \u001b[0;36msklearn.neighbors.quad_tree._QuadTree._resize_c\u001b[0;34m()\u001b[0m\n",
      "\u001b[0;32msklearn\\tree\\_utils.pyx\u001b[0m in \u001b[0;36msklearn.tree._utils.safe_realloc\u001b[0;34m()\u001b[0m\n",
      "\u001b[0;31mMemoryError\u001b[0m: could not allocate 32768000 bytes"
     ]
    },
    {
     "name": "stderr",
     "output_type": "stream",
     "text": [
      "Exception ignored in: 'sklearn.neighbors.quad_tree._QuadTree._insert_point_in_new_child'\n",
      "Traceback (most recent call last):\n",
      "  File \"sklearn\\neighbors\\quad_tree.pyx\", line 588, in sklearn.neighbors.quad_tree._QuadTree._resize\n",
      "  File \"sklearn\\neighbors\\quad_tree.pyx\", line 608, in sklearn.neighbors.quad_tree._QuadTree._resize_c\n",
      "  File \"sklearn\\tree\\_utils.pyx\", line 39, in sklearn.tree._utils.safe_realloc\n",
      "MemoryError: could not allocate 32768000 bytes\n"
     ]
    },
    {
     "ename": "MemoryError",
     "evalue": "could not allocate 32768000 bytes",
     "output_type": "error",
     "traceback": [
      "\u001b[0;31m---------------------------------------------------------------------------\u001b[0m",
      "\u001b[0;31mMemoryError\u001b[0m                               Traceback (most recent call last)",
      "\u001b[0;32msklearn\\neighbors\\quad_tree.pyx\u001b[0m in \u001b[0;36msklearn.neighbors.quad_tree._QuadTree._resize\u001b[0;34m()\u001b[0m\n",
      "\u001b[0;32msklearn\\neighbors\\quad_tree.pyx\u001b[0m in \u001b[0;36msklearn.neighbors.quad_tree._QuadTree._resize_c\u001b[0;34m()\u001b[0m\n",
      "\u001b[0;32msklearn\\tree\\_utils.pyx\u001b[0m in \u001b[0;36msklearn.tree._utils.safe_realloc\u001b[0;34m()\u001b[0m\n",
      "\u001b[0;31mMemoryError\u001b[0m: could not allocate 32768000 bytes"
     ]
    },
    {
     "name": "stderr",
     "output_type": "stream",
     "text": [
      "Exception ignored in: 'sklearn.neighbors.quad_tree._QuadTree._insert_point_in_new_child'\n",
      "Traceback (most recent call last):\n",
      "  File \"sklearn\\neighbors\\quad_tree.pyx\", line 588, in sklearn.neighbors.quad_tree._QuadTree._resize\n",
      "  File \"sklearn\\neighbors\\quad_tree.pyx\", line 608, in sklearn.neighbors.quad_tree._QuadTree._resize_c\n",
      "  File \"sklearn\\tree\\_utils.pyx\", line 39, in sklearn.tree._utils.safe_realloc\n",
      "MemoryError: could not allocate 32768000 bytes\n"
     ]
    },
    {
     "ename": "MemoryError",
     "evalue": "could not allocate 32768000 bytes",
     "output_type": "error",
     "traceback": [
      "\u001b[0;31m---------------------------------------------------------------------------\u001b[0m",
      "\u001b[0;31mMemoryError\u001b[0m                               Traceback (most recent call last)",
      "\u001b[0;32msklearn\\neighbors\\quad_tree.pyx\u001b[0m in \u001b[0;36msklearn.neighbors.quad_tree._QuadTree._resize\u001b[0;34m()\u001b[0m\n",
      "\u001b[0;32msklearn\\neighbors\\quad_tree.pyx\u001b[0m in \u001b[0;36msklearn.neighbors.quad_tree._QuadTree._resize_c\u001b[0;34m()\u001b[0m\n",
      "\u001b[0;32msklearn\\tree\\_utils.pyx\u001b[0m in \u001b[0;36msklearn.tree._utils.safe_realloc\u001b[0;34m()\u001b[0m\n",
      "\u001b[0;31mMemoryError\u001b[0m: could not allocate 32768000 bytes"
     ]
    },
    {
     "name": "stderr",
     "output_type": "stream",
     "text": [
      "Exception ignored in: 'sklearn.neighbors.quad_tree._QuadTree._insert_point_in_new_child'\n",
      "Traceback (most recent call last):\n",
      "  File \"sklearn\\neighbors\\quad_tree.pyx\", line 588, in sklearn.neighbors.quad_tree._QuadTree._resize\n",
      "  File \"sklearn\\neighbors\\quad_tree.pyx\", line 608, in sklearn.neighbors.quad_tree._QuadTree._resize_c\n",
      "  File \"sklearn\\tree\\_utils.pyx\", line 39, in sklearn.tree._utils.safe_realloc\n",
      "MemoryError: could not allocate 32768000 bytes\n"
     ]
    },
    {
     "ename": "MemoryError",
     "evalue": "could not allocate 32768000 bytes",
     "output_type": "error",
     "traceback": [
      "\u001b[0;31m---------------------------------------------------------------------------\u001b[0m",
      "\u001b[0;31mMemoryError\u001b[0m                               Traceback (most recent call last)",
      "\u001b[0;32msklearn\\neighbors\\quad_tree.pyx\u001b[0m in \u001b[0;36msklearn.neighbors.quad_tree._QuadTree._resize\u001b[0;34m()\u001b[0m\n",
      "\u001b[0;32msklearn\\neighbors\\quad_tree.pyx\u001b[0m in \u001b[0;36msklearn.neighbors.quad_tree._QuadTree._resize_c\u001b[0;34m()\u001b[0m\n",
      "\u001b[0;32msklearn\\tree\\_utils.pyx\u001b[0m in \u001b[0;36msklearn.tree._utils.safe_realloc\u001b[0;34m()\u001b[0m\n",
      "\u001b[0;31mMemoryError\u001b[0m: could not allocate 32768000 bytes"
     ]
    },
    {
     "name": "stderr",
     "output_type": "stream",
     "text": [
      "Exception ignored in: 'sklearn.neighbors.quad_tree._QuadTree._insert_point_in_new_child'\n",
      "Traceback (most recent call last):\n",
      "  File \"sklearn\\neighbors\\quad_tree.pyx\", line 588, in sklearn.neighbors.quad_tree._QuadTree._resize\n",
      "  File \"sklearn\\neighbors\\quad_tree.pyx\", line 608, in sklearn.neighbors.quad_tree._QuadTree._resize_c\n",
      "  File \"sklearn\\tree\\_utils.pyx\", line 39, in sklearn.tree._utils.safe_realloc\n",
      "MemoryError: could not allocate 32768000 bytes\n"
     ]
    },
    {
     "ename": "MemoryError",
     "evalue": "could not allocate 32768000 bytes",
     "output_type": "error",
     "traceback": [
      "\u001b[0;31m---------------------------------------------------------------------------\u001b[0m",
      "\u001b[0;31mMemoryError\u001b[0m                               Traceback (most recent call last)",
      "\u001b[0;32msklearn\\neighbors\\quad_tree.pyx\u001b[0m in \u001b[0;36msklearn.neighbors.quad_tree._QuadTree._resize\u001b[0;34m()\u001b[0m\n",
      "\u001b[0;32msklearn\\neighbors\\quad_tree.pyx\u001b[0m in \u001b[0;36msklearn.neighbors.quad_tree._QuadTree._resize_c\u001b[0;34m()\u001b[0m\n",
      "\u001b[0;32msklearn\\tree\\_utils.pyx\u001b[0m in \u001b[0;36msklearn.tree._utils.safe_realloc\u001b[0;34m()\u001b[0m\n",
      "\u001b[0;31mMemoryError\u001b[0m: could not allocate 32768000 bytes"
     ]
    },
    {
     "name": "stderr",
     "output_type": "stream",
     "text": [
      "Exception ignored in: 'sklearn.neighbors.quad_tree._QuadTree._insert_point_in_new_child'\n",
      "Traceback (most recent call last):\n",
      "  File \"sklearn\\neighbors\\quad_tree.pyx\", line 588, in sklearn.neighbors.quad_tree._QuadTree._resize\n",
      "  File \"sklearn\\neighbors\\quad_tree.pyx\", line 608, in sklearn.neighbors.quad_tree._QuadTree._resize_c\n",
      "  File \"sklearn\\tree\\_utils.pyx\", line 39, in sklearn.tree._utils.safe_realloc\n",
      "MemoryError: could not allocate 32768000 bytes\n"
     ]
    },
    {
     "ename": "MemoryError",
     "evalue": "could not allocate 32768000 bytes",
     "output_type": "error",
     "traceback": [
      "\u001b[0;31m---------------------------------------------------------------------------\u001b[0m",
      "\u001b[0;31mMemoryError\u001b[0m                               Traceback (most recent call last)",
      "\u001b[0;32msklearn\\neighbors\\quad_tree.pyx\u001b[0m in \u001b[0;36msklearn.neighbors.quad_tree._QuadTree._resize\u001b[0;34m()\u001b[0m\n",
      "\u001b[0;32msklearn\\neighbors\\quad_tree.pyx\u001b[0m in \u001b[0;36msklearn.neighbors.quad_tree._QuadTree._resize_c\u001b[0;34m()\u001b[0m\n",
      "\u001b[0;32msklearn\\tree\\_utils.pyx\u001b[0m in \u001b[0;36msklearn.tree._utils.safe_realloc\u001b[0;34m()\u001b[0m\n",
      "\u001b[0;31mMemoryError\u001b[0m: could not allocate 32768000 bytes"
     ]
    },
    {
     "name": "stderr",
     "output_type": "stream",
     "text": [
      "Exception ignored in: 'sklearn.neighbors.quad_tree._QuadTree._insert_point_in_new_child'\n",
      "Traceback (most recent call last):\n",
      "  File \"sklearn\\neighbors\\quad_tree.pyx\", line 588, in sklearn.neighbors.quad_tree._QuadTree._resize\n",
      "  File \"sklearn\\neighbors\\quad_tree.pyx\", line 608, in sklearn.neighbors.quad_tree._QuadTree._resize_c\n",
      "  File \"sklearn\\tree\\_utils.pyx\", line 39, in sklearn.tree._utils.safe_realloc\n",
      "MemoryError: could not allocate 32768000 bytes\n"
     ]
    },
    {
     "ename": "MemoryError",
     "evalue": "could not allocate 32768000 bytes",
     "output_type": "error",
     "traceback": [
      "\u001b[0;31m---------------------------------------------------------------------------\u001b[0m",
      "\u001b[0;31mMemoryError\u001b[0m                               Traceback (most recent call last)",
      "\u001b[0;32msklearn\\neighbors\\quad_tree.pyx\u001b[0m in \u001b[0;36msklearn.neighbors.quad_tree._QuadTree._resize\u001b[0;34m()\u001b[0m\n",
      "\u001b[0;32msklearn\\neighbors\\quad_tree.pyx\u001b[0m in \u001b[0;36msklearn.neighbors.quad_tree._QuadTree._resize_c\u001b[0;34m()\u001b[0m\n",
      "\u001b[0;32msklearn\\tree\\_utils.pyx\u001b[0m in \u001b[0;36msklearn.tree._utils.safe_realloc\u001b[0;34m()\u001b[0m\n",
      "\u001b[0;31mMemoryError\u001b[0m: could not allocate 32768000 bytes"
     ]
    },
    {
     "name": "stderr",
     "output_type": "stream",
     "text": [
      "Exception ignored in: 'sklearn.neighbors.quad_tree._QuadTree._insert_point_in_new_child'\n",
      "Traceback (most recent call last):\n",
      "  File \"sklearn\\neighbors\\quad_tree.pyx\", line 588, in sklearn.neighbors.quad_tree._QuadTree._resize\n",
      "  File \"sklearn\\neighbors\\quad_tree.pyx\", line 608, in sklearn.neighbors.quad_tree._QuadTree._resize_c\n",
      "  File \"sklearn\\tree\\_utils.pyx\", line 39, in sklearn.tree._utils.safe_realloc\n",
      "MemoryError: could not allocate 32768000 bytes\n"
     ]
    },
    {
     "ename": "MemoryError",
     "evalue": "could not allocate 32768000 bytes",
     "output_type": "error",
     "traceback": [
      "\u001b[0;31m---------------------------------------------------------------------------\u001b[0m",
      "\u001b[0;31mMemoryError\u001b[0m                               Traceback (most recent call last)",
      "\u001b[0;32msklearn\\neighbors\\quad_tree.pyx\u001b[0m in \u001b[0;36msklearn.neighbors.quad_tree._QuadTree._resize\u001b[0;34m()\u001b[0m\n",
      "\u001b[0;32msklearn\\neighbors\\quad_tree.pyx\u001b[0m in \u001b[0;36msklearn.neighbors.quad_tree._QuadTree._resize_c\u001b[0;34m()\u001b[0m\n",
      "\u001b[0;32msklearn\\tree\\_utils.pyx\u001b[0m in \u001b[0;36msklearn.tree._utils.safe_realloc\u001b[0;34m()\u001b[0m\n",
      "\u001b[0;31mMemoryError\u001b[0m: could not allocate 32768000 bytes"
     ]
    },
    {
     "name": "stderr",
     "output_type": "stream",
     "text": [
      "Exception ignored in: 'sklearn.neighbors.quad_tree._QuadTree._insert_point_in_new_child'\n",
      "Traceback (most recent call last):\n",
      "  File \"sklearn\\neighbors\\quad_tree.pyx\", line 588, in sklearn.neighbors.quad_tree._QuadTree._resize\n",
      "  File \"sklearn\\neighbors\\quad_tree.pyx\", line 608, in sklearn.neighbors.quad_tree._QuadTree._resize_c\n",
      "  File \"sklearn\\tree\\_utils.pyx\", line 39, in sklearn.tree._utils.safe_realloc\n",
      "MemoryError: could not allocate 32768000 bytes\n"
     ]
    },
    {
     "ename": "MemoryError",
     "evalue": "could not allocate 32768000 bytes",
     "output_type": "error",
     "traceback": [
      "\u001b[0;31m---------------------------------------------------------------------------\u001b[0m",
      "\u001b[0;31mMemoryError\u001b[0m                               Traceback (most recent call last)",
      "\u001b[0;32msklearn\\neighbors\\quad_tree.pyx\u001b[0m in \u001b[0;36msklearn.neighbors.quad_tree._QuadTree._resize\u001b[0;34m()\u001b[0m\n",
      "\u001b[0;32msklearn\\neighbors\\quad_tree.pyx\u001b[0m in \u001b[0;36msklearn.neighbors.quad_tree._QuadTree._resize_c\u001b[0;34m()\u001b[0m\n",
      "\u001b[0;32msklearn\\tree\\_utils.pyx\u001b[0m in \u001b[0;36msklearn.tree._utils.safe_realloc\u001b[0;34m()\u001b[0m\n",
      "\u001b[0;31mMemoryError\u001b[0m: could not allocate 32768000 bytes"
     ]
    },
    {
     "name": "stderr",
     "output_type": "stream",
     "text": [
      "Exception ignored in: 'sklearn.neighbors.quad_tree._QuadTree._insert_point_in_new_child'\n",
      "Traceback (most recent call last):\n",
      "  File \"sklearn\\neighbors\\quad_tree.pyx\", line 588, in sklearn.neighbors.quad_tree._QuadTree._resize\n",
      "  File \"sklearn\\neighbors\\quad_tree.pyx\", line 608, in sklearn.neighbors.quad_tree._QuadTree._resize_c\n",
      "  File \"sklearn\\tree\\_utils.pyx\", line 39, in sklearn.tree._utils.safe_realloc\n",
      "MemoryError: could not allocate 32768000 bytes\n"
     ]
    },
    {
     "ename": "MemoryError",
     "evalue": "could not allocate 32768000 bytes",
     "output_type": "error",
     "traceback": [
      "\u001b[0;31m---------------------------------------------------------------------------\u001b[0m",
      "\u001b[0;31mMemoryError\u001b[0m                               Traceback (most recent call last)",
      "\u001b[0;32msklearn\\neighbors\\quad_tree.pyx\u001b[0m in \u001b[0;36msklearn.neighbors.quad_tree._QuadTree._resize\u001b[0;34m()\u001b[0m\n",
      "\u001b[0;32msklearn\\neighbors\\quad_tree.pyx\u001b[0m in \u001b[0;36msklearn.neighbors.quad_tree._QuadTree._resize_c\u001b[0;34m()\u001b[0m\n",
      "\u001b[0;32msklearn\\tree\\_utils.pyx\u001b[0m in \u001b[0;36msklearn.tree._utils.safe_realloc\u001b[0;34m()\u001b[0m\n",
      "\u001b[0;31mMemoryError\u001b[0m: could not allocate 32768000 bytes"
     ]
    },
    {
     "name": "stderr",
     "output_type": "stream",
     "text": [
      "Exception ignored in: 'sklearn.neighbors.quad_tree._QuadTree._insert_point_in_new_child'\n",
      "Traceback (most recent call last):\n",
      "  File \"sklearn\\neighbors\\quad_tree.pyx\", line 588, in sklearn.neighbors.quad_tree._QuadTree._resize\n",
      "  File \"sklearn\\neighbors\\quad_tree.pyx\", line 608, in sklearn.neighbors.quad_tree._QuadTree._resize_c\n",
      "  File \"sklearn\\tree\\_utils.pyx\", line 39, in sklearn.tree._utils.safe_realloc\n",
      "MemoryError: could not allocate 32768000 bytes\n"
     ]
    },
    {
     "ename": "MemoryError",
     "evalue": "could not allocate 32768000 bytes",
     "output_type": "error",
     "traceback": [
      "\u001b[0;31m---------------------------------------------------------------------------\u001b[0m",
      "\u001b[0;31mMemoryError\u001b[0m                               Traceback (most recent call last)",
      "\u001b[0;32msklearn\\neighbors\\quad_tree.pyx\u001b[0m in \u001b[0;36msklearn.neighbors.quad_tree._QuadTree._resize\u001b[0;34m()\u001b[0m\n",
      "\u001b[0;32msklearn\\neighbors\\quad_tree.pyx\u001b[0m in \u001b[0;36msklearn.neighbors.quad_tree._QuadTree._resize_c\u001b[0;34m()\u001b[0m\n",
      "\u001b[0;32msklearn\\tree\\_utils.pyx\u001b[0m in \u001b[0;36msklearn.tree._utils.safe_realloc\u001b[0;34m()\u001b[0m\n",
      "\u001b[0;31mMemoryError\u001b[0m: could not allocate 32768000 bytes"
     ]
    },
    {
     "name": "stderr",
     "output_type": "stream",
     "text": [
      "Exception ignored in: 'sklearn.neighbors.quad_tree._QuadTree._insert_point_in_new_child'\n",
      "Traceback (most recent call last):\n",
      "  File \"sklearn\\neighbors\\quad_tree.pyx\", line 588, in sklearn.neighbors.quad_tree._QuadTree._resize\n",
      "  File \"sklearn\\neighbors\\quad_tree.pyx\", line 608, in sklearn.neighbors.quad_tree._QuadTree._resize_c\n",
      "  File \"sklearn\\tree\\_utils.pyx\", line 39, in sklearn.tree._utils.safe_realloc\n",
      "MemoryError: could not allocate 32768000 bytes\n"
     ]
    },
    {
     "ename": "MemoryError",
     "evalue": "could not allocate 32768000 bytes",
     "output_type": "error",
     "traceback": [
      "\u001b[0;31m---------------------------------------------------------------------------\u001b[0m",
      "\u001b[0;31mMemoryError\u001b[0m                               Traceback (most recent call last)",
      "\u001b[0;32msklearn\\neighbors\\quad_tree.pyx\u001b[0m in \u001b[0;36msklearn.neighbors.quad_tree._QuadTree._resize\u001b[0;34m()\u001b[0m\n",
      "\u001b[0;32msklearn\\neighbors\\quad_tree.pyx\u001b[0m in \u001b[0;36msklearn.neighbors.quad_tree._QuadTree._resize_c\u001b[0;34m()\u001b[0m\n",
      "\u001b[0;32msklearn\\tree\\_utils.pyx\u001b[0m in \u001b[0;36msklearn.tree._utils.safe_realloc\u001b[0;34m()\u001b[0m\n",
      "\u001b[0;31mMemoryError\u001b[0m: could not allocate 32768000 bytes"
     ]
    },
    {
     "name": "stderr",
     "output_type": "stream",
     "text": [
      "Exception ignored in: 'sklearn.neighbors.quad_tree._QuadTree._insert_point_in_new_child'\n",
      "Traceback (most recent call last):\n",
      "  File \"sklearn\\neighbors\\quad_tree.pyx\", line 588, in sklearn.neighbors.quad_tree._QuadTree._resize\n",
      "  File \"sklearn\\neighbors\\quad_tree.pyx\", line 608, in sklearn.neighbors.quad_tree._QuadTree._resize_c\n",
      "  File \"sklearn\\tree\\_utils.pyx\", line 39, in sklearn.tree._utils.safe_realloc\n",
      "MemoryError: could not allocate 32768000 bytes\n"
     ]
    },
    {
     "ename": "MemoryError",
     "evalue": "could not allocate 32768000 bytes",
     "output_type": "error",
     "traceback": [
      "\u001b[0;31m---------------------------------------------------------------------------\u001b[0m",
      "\u001b[0;31mMemoryError\u001b[0m                               Traceback (most recent call last)",
      "\u001b[0;32msklearn\\neighbors\\quad_tree.pyx\u001b[0m in \u001b[0;36msklearn.neighbors.quad_tree._QuadTree._resize\u001b[0;34m()\u001b[0m\n",
      "\u001b[0;32msklearn\\neighbors\\quad_tree.pyx\u001b[0m in \u001b[0;36msklearn.neighbors.quad_tree._QuadTree._resize_c\u001b[0;34m()\u001b[0m\n",
      "\u001b[0;32msklearn\\tree\\_utils.pyx\u001b[0m in \u001b[0;36msklearn.tree._utils.safe_realloc\u001b[0;34m()\u001b[0m\n",
      "\u001b[0;31mMemoryError\u001b[0m: could not allocate 32768000 bytes"
     ]
    },
    {
     "name": "stderr",
     "output_type": "stream",
     "text": [
      "Exception ignored in: 'sklearn.neighbors.quad_tree._QuadTree._insert_point_in_new_child'\n",
      "Traceback (most recent call last):\n",
      "  File \"sklearn\\neighbors\\quad_tree.pyx\", line 588, in sklearn.neighbors.quad_tree._QuadTree._resize\n",
      "  File \"sklearn\\neighbors\\quad_tree.pyx\", line 608, in sklearn.neighbors.quad_tree._QuadTree._resize_c\n",
      "  File \"sklearn\\tree\\_utils.pyx\", line 39, in sklearn.tree._utils.safe_realloc\n",
      "MemoryError: could not allocate 32768000 bytes\n"
     ]
    },
    {
     "ename": "MemoryError",
     "evalue": "could not allocate 32768000 bytes",
     "output_type": "error",
     "traceback": [
      "\u001b[0;31m---------------------------------------------------------------------------\u001b[0m",
      "\u001b[0;31mMemoryError\u001b[0m                               Traceback (most recent call last)",
      "\u001b[0;32msklearn\\neighbors\\quad_tree.pyx\u001b[0m in \u001b[0;36msklearn.neighbors.quad_tree._QuadTree._resize\u001b[0;34m()\u001b[0m\n",
      "\u001b[0;32msklearn\\neighbors\\quad_tree.pyx\u001b[0m in \u001b[0;36msklearn.neighbors.quad_tree._QuadTree._resize_c\u001b[0;34m()\u001b[0m\n",
      "\u001b[0;32msklearn\\tree\\_utils.pyx\u001b[0m in \u001b[0;36msklearn.tree._utils.safe_realloc\u001b[0;34m()\u001b[0m\n",
      "\u001b[0;31mMemoryError\u001b[0m: could not allocate 32768000 bytes"
     ]
    },
    {
     "name": "stderr",
     "output_type": "stream",
     "text": [
      "Exception ignored in: 'sklearn.neighbors.quad_tree._QuadTree._insert_point_in_new_child'\n",
      "Traceback (most recent call last):\n",
      "  File \"sklearn\\neighbors\\quad_tree.pyx\", line 588, in sklearn.neighbors.quad_tree._QuadTree._resize\n",
      "  File \"sklearn\\neighbors\\quad_tree.pyx\", line 608, in sklearn.neighbors.quad_tree._QuadTree._resize_c\n",
      "  File \"sklearn\\tree\\_utils.pyx\", line 39, in sklearn.tree._utils.safe_realloc\n",
      "MemoryError: could not allocate 32768000 bytes\n"
     ]
    },
    {
     "ename": "MemoryError",
     "evalue": "could not allocate 32768000 bytes",
     "output_type": "error",
     "traceback": [
      "\u001b[0;31m---------------------------------------------------------------------------\u001b[0m",
      "\u001b[0;31mMemoryError\u001b[0m                               Traceback (most recent call last)",
      "\u001b[0;32msklearn\\neighbors\\quad_tree.pyx\u001b[0m in \u001b[0;36msklearn.neighbors.quad_tree._QuadTree._resize\u001b[0;34m()\u001b[0m\n",
      "\u001b[0;32msklearn\\neighbors\\quad_tree.pyx\u001b[0m in \u001b[0;36msklearn.neighbors.quad_tree._QuadTree._resize_c\u001b[0;34m()\u001b[0m\n",
      "\u001b[0;32msklearn\\tree\\_utils.pyx\u001b[0m in \u001b[0;36msklearn.tree._utils.safe_realloc\u001b[0;34m()\u001b[0m\n",
      "\u001b[0;31mMemoryError\u001b[0m: could not allocate 32768000 bytes"
     ]
    },
    {
     "name": "stderr",
     "output_type": "stream",
     "text": [
      "Exception ignored in: 'sklearn.neighbors.quad_tree._QuadTree._insert_point_in_new_child'\n",
      "Traceback (most recent call last):\n",
      "  File \"sklearn\\neighbors\\quad_tree.pyx\", line 588, in sklearn.neighbors.quad_tree._QuadTree._resize\n",
      "  File \"sklearn\\neighbors\\quad_tree.pyx\", line 608, in sklearn.neighbors.quad_tree._QuadTree._resize_c\n",
      "  File \"sklearn\\tree\\_utils.pyx\", line 39, in sklearn.tree._utils.safe_realloc\n",
      "MemoryError: could not allocate 32768000 bytes\n"
     ]
    },
    {
     "ename": "MemoryError",
     "evalue": "could not allocate 32768000 bytes",
     "output_type": "error",
     "traceback": [
      "\u001b[0;31m---------------------------------------------------------------------------\u001b[0m",
      "\u001b[0;31mMemoryError\u001b[0m                               Traceback (most recent call last)",
      "\u001b[0;32msklearn\\neighbors\\quad_tree.pyx\u001b[0m in \u001b[0;36msklearn.neighbors.quad_tree._QuadTree._resize\u001b[0;34m()\u001b[0m\n",
      "\u001b[0;32msklearn\\neighbors\\quad_tree.pyx\u001b[0m in \u001b[0;36msklearn.neighbors.quad_tree._QuadTree._resize_c\u001b[0;34m()\u001b[0m\n",
      "\u001b[0;32msklearn\\tree\\_utils.pyx\u001b[0m in \u001b[0;36msklearn.tree._utils.safe_realloc\u001b[0;34m()\u001b[0m\n",
      "\u001b[0;31mMemoryError\u001b[0m: could not allocate 32768000 bytes"
     ]
    },
    {
     "name": "stderr",
     "output_type": "stream",
     "text": [
      "Exception ignored in: 'sklearn.neighbors.quad_tree._QuadTree._insert_point_in_new_child'\n",
      "Traceback (most recent call last):\n",
      "  File \"sklearn\\neighbors\\quad_tree.pyx\", line 588, in sklearn.neighbors.quad_tree._QuadTree._resize\n",
      "  File \"sklearn\\neighbors\\quad_tree.pyx\", line 608, in sklearn.neighbors.quad_tree._QuadTree._resize_c\n",
      "  File \"sklearn\\tree\\_utils.pyx\", line 39, in sklearn.tree._utils.safe_realloc\n",
      "MemoryError: could not allocate 32768000 bytes\n"
     ]
    },
    {
     "ename": "MemoryError",
     "evalue": "could not allocate 32768000 bytes",
     "output_type": "error",
     "traceback": [
      "\u001b[0;31m---------------------------------------------------------------------------\u001b[0m",
      "\u001b[0;31mMemoryError\u001b[0m                               Traceback (most recent call last)",
      "\u001b[0;32msklearn\\neighbors\\quad_tree.pyx\u001b[0m in \u001b[0;36msklearn.neighbors.quad_tree._QuadTree._resize\u001b[0;34m()\u001b[0m\n",
      "\u001b[0;32msklearn\\neighbors\\quad_tree.pyx\u001b[0m in \u001b[0;36msklearn.neighbors.quad_tree._QuadTree._resize_c\u001b[0;34m()\u001b[0m\n",
      "\u001b[0;32msklearn\\tree\\_utils.pyx\u001b[0m in \u001b[0;36msklearn.tree._utils.safe_realloc\u001b[0;34m()\u001b[0m\n",
      "\u001b[0;31mMemoryError\u001b[0m: could not allocate 32768000 bytes"
     ]
    },
    {
     "name": "stderr",
     "output_type": "stream",
     "text": [
      "Exception ignored in: 'sklearn.neighbors.quad_tree._QuadTree._insert_point_in_new_child'\n",
      "Traceback (most recent call last):\n",
      "  File \"sklearn\\neighbors\\quad_tree.pyx\", line 588, in sklearn.neighbors.quad_tree._QuadTree._resize\n",
      "  File \"sklearn\\neighbors\\quad_tree.pyx\", line 608, in sklearn.neighbors.quad_tree._QuadTree._resize_c\n",
      "  File \"sklearn\\tree\\_utils.pyx\", line 39, in sklearn.tree._utils.safe_realloc\n",
      "MemoryError: could not allocate 32768000 bytes\n"
     ]
    },
    {
     "ename": "MemoryError",
     "evalue": "could not allocate 32768000 bytes",
     "output_type": "error",
     "traceback": [
      "\u001b[0;31m---------------------------------------------------------------------------\u001b[0m",
      "\u001b[0;31mMemoryError\u001b[0m                               Traceback (most recent call last)",
      "\u001b[0;32msklearn\\neighbors\\quad_tree.pyx\u001b[0m in \u001b[0;36msklearn.neighbors.quad_tree._QuadTree._resize\u001b[0;34m()\u001b[0m\n",
      "\u001b[0;32msklearn\\neighbors\\quad_tree.pyx\u001b[0m in \u001b[0;36msklearn.neighbors.quad_tree._QuadTree._resize_c\u001b[0;34m()\u001b[0m\n",
      "\u001b[0;32msklearn\\tree\\_utils.pyx\u001b[0m in \u001b[0;36msklearn.tree._utils.safe_realloc\u001b[0;34m()\u001b[0m\n",
      "\u001b[0;31mMemoryError\u001b[0m: could not allocate 32768000 bytes"
     ]
    },
    {
     "name": "stderr",
     "output_type": "stream",
     "text": [
      "Exception ignored in: 'sklearn.neighbors.quad_tree._QuadTree._insert_point_in_new_child'\n",
      "Traceback (most recent call last):\n",
      "  File \"sklearn\\neighbors\\quad_tree.pyx\", line 588, in sklearn.neighbors.quad_tree._QuadTree._resize\n",
      "  File \"sklearn\\neighbors\\quad_tree.pyx\", line 608, in sklearn.neighbors.quad_tree._QuadTree._resize_c\n",
      "  File \"sklearn\\tree\\_utils.pyx\", line 39, in sklearn.tree._utils.safe_realloc\n",
      "MemoryError: could not allocate 32768000 bytes\n"
     ]
    },
    {
     "ename": "MemoryError",
     "evalue": "could not allocate 32768000 bytes",
     "output_type": "error",
     "traceback": [
      "\u001b[0;31m---------------------------------------------------------------------------\u001b[0m",
      "\u001b[0;31mMemoryError\u001b[0m                               Traceback (most recent call last)",
      "\u001b[0;32msklearn\\neighbors\\quad_tree.pyx\u001b[0m in \u001b[0;36msklearn.neighbors.quad_tree._QuadTree._resize\u001b[0;34m()\u001b[0m\n",
      "\u001b[0;32msklearn\\neighbors\\quad_tree.pyx\u001b[0m in \u001b[0;36msklearn.neighbors.quad_tree._QuadTree._resize_c\u001b[0;34m()\u001b[0m\n",
      "\u001b[0;32msklearn\\tree\\_utils.pyx\u001b[0m in \u001b[0;36msklearn.tree._utils.safe_realloc\u001b[0;34m()\u001b[0m\n",
      "\u001b[0;31mMemoryError\u001b[0m: could not allocate 32768000 bytes"
     ]
    },
    {
     "name": "stderr",
     "output_type": "stream",
     "text": [
      "Exception ignored in: 'sklearn.neighbors.quad_tree._QuadTree._insert_point_in_new_child'\n",
      "Traceback (most recent call last):\n",
      "  File \"sklearn\\neighbors\\quad_tree.pyx\", line 588, in sklearn.neighbors.quad_tree._QuadTree._resize\n",
      "  File \"sklearn\\neighbors\\quad_tree.pyx\", line 608, in sklearn.neighbors.quad_tree._QuadTree._resize_c\n",
      "  File \"sklearn\\tree\\_utils.pyx\", line 39, in sklearn.tree._utils.safe_realloc\n",
      "MemoryError: could not allocate 32768000 bytes\n"
     ]
    },
    {
     "ename": "MemoryError",
     "evalue": "could not allocate 32768000 bytes",
     "output_type": "error",
     "traceback": [
      "\u001b[0;31m---------------------------------------------------------------------------\u001b[0m",
      "\u001b[0;31mMemoryError\u001b[0m                               Traceback (most recent call last)",
      "\u001b[0;32msklearn\\neighbors\\quad_tree.pyx\u001b[0m in \u001b[0;36msklearn.neighbors.quad_tree._QuadTree._resize\u001b[0;34m()\u001b[0m\n",
      "\u001b[0;32msklearn\\neighbors\\quad_tree.pyx\u001b[0m in \u001b[0;36msklearn.neighbors.quad_tree._QuadTree._resize_c\u001b[0;34m()\u001b[0m\n",
      "\u001b[0;32msklearn\\tree\\_utils.pyx\u001b[0m in \u001b[0;36msklearn.tree._utils.safe_realloc\u001b[0;34m()\u001b[0m\n",
      "\u001b[0;31mMemoryError\u001b[0m: could not allocate 32768000 bytes"
     ]
    },
    {
     "name": "stderr",
     "output_type": "stream",
     "text": [
      "Exception ignored in: 'sklearn.neighbors.quad_tree._QuadTree._insert_point_in_new_child'\n",
      "Traceback (most recent call last):\n",
      "  File \"sklearn\\neighbors\\quad_tree.pyx\", line 588, in sklearn.neighbors.quad_tree._QuadTree._resize\n",
      "  File \"sklearn\\neighbors\\quad_tree.pyx\", line 608, in sklearn.neighbors.quad_tree._QuadTree._resize_c\n",
      "  File \"sklearn\\tree\\_utils.pyx\", line 39, in sklearn.tree._utils.safe_realloc\n",
      "MemoryError: could not allocate 32768000 bytes\n"
     ]
    },
    {
     "ename": "MemoryError",
     "evalue": "could not allocate 32768000 bytes",
     "output_type": "error",
     "traceback": [
      "\u001b[0;31m---------------------------------------------------------------------------\u001b[0m",
      "\u001b[0;31mMemoryError\u001b[0m                               Traceback (most recent call last)",
      "\u001b[0;32msklearn\\neighbors\\quad_tree.pyx\u001b[0m in \u001b[0;36msklearn.neighbors.quad_tree._QuadTree._resize\u001b[0;34m()\u001b[0m\n",
      "\u001b[0;32msklearn\\neighbors\\quad_tree.pyx\u001b[0m in \u001b[0;36msklearn.neighbors.quad_tree._QuadTree._resize_c\u001b[0;34m()\u001b[0m\n",
      "\u001b[0;32msklearn\\tree\\_utils.pyx\u001b[0m in \u001b[0;36msklearn.tree._utils.safe_realloc\u001b[0;34m()\u001b[0m\n",
      "\u001b[0;31mMemoryError\u001b[0m: could not allocate 32768000 bytes"
     ]
    },
    {
     "name": "stderr",
     "output_type": "stream",
     "text": [
      "Exception ignored in: 'sklearn.neighbors.quad_tree._QuadTree._insert_point_in_new_child'\n",
      "Traceback (most recent call last):\n",
      "  File \"sklearn\\neighbors\\quad_tree.pyx\", line 588, in sklearn.neighbors.quad_tree._QuadTree._resize\n",
      "  File \"sklearn\\neighbors\\quad_tree.pyx\", line 608, in sklearn.neighbors.quad_tree._QuadTree._resize_c\n",
      "  File \"sklearn\\tree\\_utils.pyx\", line 39, in sklearn.tree._utils.safe_realloc\n",
      "MemoryError: could not allocate 32768000 bytes\n"
     ]
    },
    {
     "ename": "MemoryError",
     "evalue": "could not allocate 32768000 bytes",
     "output_type": "error",
     "traceback": [
      "\u001b[0;31m---------------------------------------------------------------------------\u001b[0m",
      "\u001b[0;31mMemoryError\u001b[0m                               Traceback (most recent call last)",
      "\u001b[0;32msklearn\\neighbors\\quad_tree.pyx\u001b[0m in \u001b[0;36msklearn.neighbors.quad_tree._QuadTree._resize\u001b[0;34m()\u001b[0m\n",
      "\u001b[0;32msklearn\\neighbors\\quad_tree.pyx\u001b[0m in \u001b[0;36msklearn.neighbors.quad_tree._QuadTree._resize_c\u001b[0;34m()\u001b[0m\n",
      "\u001b[0;32msklearn\\tree\\_utils.pyx\u001b[0m in \u001b[0;36msklearn.tree._utils.safe_realloc\u001b[0;34m()\u001b[0m\n",
      "\u001b[0;31mMemoryError\u001b[0m: could not allocate 32768000 bytes"
     ]
    },
    {
     "name": "stderr",
     "output_type": "stream",
     "text": [
      "Exception ignored in: 'sklearn.neighbors.quad_tree._QuadTree._insert_point_in_new_child'\n",
      "Traceback (most recent call last):\n",
      "  File \"sklearn\\neighbors\\quad_tree.pyx\", line 588, in sklearn.neighbors.quad_tree._QuadTree._resize\n",
      "  File \"sklearn\\neighbors\\quad_tree.pyx\", line 608, in sklearn.neighbors.quad_tree._QuadTree._resize_c\n",
      "  File \"sklearn\\tree\\_utils.pyx\", line 39, in sklearn.tree._utils.safe_realloc\n",
      "MemoryError: could not allocate 32768000 bytes\n"
     ]
    },
    {
     "ename": "MemoryError",
     "evalue": "could not allocate 32768000 bytes",
     "output_type": "error",
     "traceback": [
      "\u001b[0;31m---------------------------------------------------------------------------\u001b[0m",
      "\u001b[0;31mMemoryError\u001b[0m                               Traceback (most recent call last)",
      "\u001b[0;32msklearn\\neighbors\\quad_tree.pyx\u001b[0m in \u001b[0;36msklearn.neighbors.quad_tree._QuadTree._resize\u001b[0;34m()\u001b[0m\n",
      "\u001b[0;32msklearn\\neighbors\\quad_tree.pyx\u001b[0m in \u001b[0;36msklearn.neighbors.quad_tree._QuadTree._resize_c\u001b[0;34m()\u001b[0m\n",
      "\u001b[0;32msklearn\\tree\\_utils.pyx\u001b[0m in \u001b[0;36msklearn.tree._utils.safe_realloc\u001b[0;34m()\u001b[0m\n",
      "\u001b[0;31mMemoryError\u001b[0m: could not allocate 32768000 bytes"
     ]
    },
    {
     "name": "stderr",
     "output_type": "stream",
     "text": [
      "Exception ignored in: 'sklearn.neighbors.quad_tree._QuadTree._insert_point_in_new_child'\n",
      "Traceback (most recent call last):\n",
      "  File \"sklearn\\neighbors\\quad_tree.pyx\", line 588, in sklearn.neighbors.quad_tree._QuadTree._resize\n",
      "  File \"sklearn\\neighbors\\quad_tree.pyx\", line 608, in sklearn.neighbors.quad_tree._QuadTree._resize_c\n",
      "  File \"sklearn\\tree\\_utils.pyx\", line 39, in sklearn.tree._utils.safe_realloc\n",
      "MemoryError: could not allocate 32768000 bytes\n"
     ]
    },
    {
     "ename": "MemoryError",
     "evalue": "could not allocate 32768000 bytes",
     "output_type": "error",
     "traceback": [
      "\u001b[0;31m---------------------------------------------------------------------------\u001b[0m",
      "\u001b[0;31mMemoryError\u001b[0m                               Traceback (most recent call last)",
      "\u001b[0;32msklearn\\neighbors\\quad_tree.pyx\u001b[0m in \u001b[0;36msklearn.neighbors.quad_tree._QuadTree._resize\u001b[0;34m()\u001b[0m\n",
      "\u001b[0;32msklearn\\neighbors\\quad_tree.pyx\u001b[0m in \u001b[0;36msklearn.neighbors.quad_tree._QuadTree._resize_c\u001b[0;34m()\u001b[0m\n",
      "\u001b[0;32msklearn\\tree\\_utils.pyx\u001b[0m in \u001b[0;36msklearn.tree._utils.safe_realloc\u001b[0;34m()\u001b[0m\n",
      "\u001b[0;31mMemoryError\u001b[0m: could not allocate 32768000 bytes"
     ]
    },
    {
     "name": "stderr",
     "output_type": "stream",
     "text": [
      "Exception ignored in: 'sklearn.neighbors.quad_tree._QuadTree._insert_point_in_new_child'\n",
      "Traceback (most recent call last):\n",
      "  File \"sklearn\\neighbors\\quad_tree.pyx\", line 588, in sklearn.neighbors.quad_tree._QuadTree._resize\n",
      "  File \"sklearn\\neighbors\\quad_tree.pyx\", line 608, in sklearn.neighbors.quad_tree._QuadTree._resize_c\n",
      "  File \"sklearn\\tree\\_utils.pyx\", line 39, in sklearn.tree._utils.safe_realloc\n",
      "MemoryError: could not allocate 32768000 bytes\n"
     ]
    },
    {
     "ename": "MemoryError",
     "evalue": "could not allocate 32768000 bytes",
     "output_type": "error",
     "traceback": [
      "\u001b[0;31m---------------------------------------------------------------------------\u001b[0m",
      "\u001b[0;31mMemoryError\u001b[0m                               Traceback (most recent call last)",
      "\u001b[0;32msklearn\\neighbors\\quad_tree.pyx\u001b[0m in \u001b[0;36msklearn.neighbors.quad_tree._QuadTree._resize\u001b[0;34m()\u001b[0m\n",
      "\u001b[0;32msklearn\\neighbors\\quad_tree.pyx\u001b[0m in \u001b[0;36msklearn.neighbors.quad_tree._QuadTree._resize_c\u001b[0;34m()\u001b[0m\n",
      "\u001b[0;32msklearn\\tree\\_utils.pyx\u001b[0m in \u001b[0;36msklearn.tree._utils.safe_realloc\u001b[0;34m()\u001b[0m\n",
      "\u001b[0;31mMemoryError\u001b[0m: could not allocate 32768000 bytes"
     ]
    },
    {
     "name": "stderr",
     "output_type": "stream",
     "text": [
      "Exception ignored in: 'sklearn.neighbors.quad_tree._QuadTree._insert_point_in_new_child'\n",
      "Traceback (most recent call last):\n",
      "  File \"sklearn\\neighbors\\quad_tree.pyx\", line 588, in sklearn.neighbors.quad_tree._QuadTree._resize\n",
      "  File \"sklearn\\neighbors\\quad_tree.pyx\", line 608, in sklearn.neighbors.quad_tree._QuadTree._resize_c\n",
      "  File \"sklearn\\tree\\_utils.pyx\", line 39, in sklearn.tree._utils.safe_realloc\n",
      "MemoryError: could not allocate 32768000 bytes\n"
     ]
    },
    {
     "ename": "MemoryError",
     "evalue": "could not allocate 32768000 bytes",
     "output_type": "error",
     "traceback": [
      "\u001b[0;31m---------------------------------------------------------------------------\u001b[0m",
      "\u001b[0;31mMemoryError\u001b[0m                               Traceback (most recent call last)",
      "\u001b[0;32msklearn\\neighbors\\quad_tree.pyx\u001b[0m in \u001b[0;36msklearn.neighbors.quad_tree._QuadTree._resize\u001b[0;34m()\u001b[0m\n",
      "\u001b[0;32msklearn\\neighbors\\quad_tree.pyx\u001b[0m in \u001b[0;36msklearn.neighbors.quad_tree._QuadTree._resize_c\u001b[0;34m()\u001b[0m\n",
      "\u001b[0;32msklearn\\tree\\_utils.pyx\u001b[0m in \u001b[0;36msklearn.tree._utils.safe_realloc\u001b[0;34m()\u001b[0m\n",
      "\u001b[0;31mMemoryError\u001b[0m: could not allocate 32768000 bytes"
     ]
    },
    {
     "name": "stderr",
     "output_type": "stream",
     "text": [
      "Exception ignored in: 'sklearn.neighbors.quad_tree._QuadTree._insert_point_in_new_child'\n",
      "Traceback (most recent call last):\n",
      "  File \"sklearn\\neighbors\\quad_tree.pyx\", line 588, in sklearn.neighbors.quad_tree._QuadTree._resize\n",
      "  File \"sklearn\\neighbors\\quad_tree.pyx\", line 608, in sklearn.neighbors.quad_tree._QuadTree._resize_c\n",
      "  File \"sklearn\\tree\\_utils.pyx\", line 39, in sklearn.tree._utils.safe_realloc\n",
      "MemoryError: could not allocate 32768000 bytes\n"
     ]
    },
    {
     "ename": "MemoryError",
     "evalue": "could not allocate 32768000 bytes",
     "output_type": "error",
     "traceback": [
      "\u001b[0;31m---------------------------------------------------------------------------\u001b[0m",
      "\u001b[0;31mMemoryError\u001b[0m                               Traceback (most recent call last)",
      "\u001b[0;32msklearn\\neighbors\\quad_tree.pyx\u001b[0m in \u001b[0;36msklearn.neighbors.quad_tree._QuadTree._resize\u001b[0;34m()\u001b[0m\n",
      "\u001b[0;32msklearn\\neighbors\\quad_tree.pyx\u001b[0m in \u001b[0;36msklearn.neighbors.quad_tree._QuadTree._resize_c\u001b[0;34m()\u001b[0m\n",
      "\u001b[0;32msklearn\\tree\\_utils.pyx\u001b[0m in \u001b[0;36msklearn.tree._utils.safe_realloc\u001b[0;34m()\u001b[0m\n",
      "\u001b[0;31mMemoryError\u001b[0m: could not allocate 32768000 bytes"
     ]
    },
    {
     "name": "stderr",
     "output_type": "stream",
     "text": [
      "Exception ignored in: 'sklearn.neighbors.quad_tree._QuadTree._insert_point_in_new_child'\n",
      "Traceback (most recent call last):\n",
      "  File \"sklearn\\neighbors\\quad_tree.pyx\", line 588, in sklearn.neighbors.quad_tree._QuadTree._resize\n",
      "  File \"sklearn\\neighbors\\quad_tree.pyx\", line 608, in sklearn.neighbors.quad_tree._QuadTree._resize_c\n",
      "  File \"sklearn\\tree\\_utils.pyx\", line 39, in sklearn.tree._utils.safe_realloc\n",
      "MemoryError: could not allocate 32768000 bytes\n"
     ]
    },
    {
     "ename": "MemoryError",
     "evalue": "could not allocate 32768000 bytes",
     "output_type": "error",
     "traceback": [
      "\u001b[0;31m---------------------------------------------------------------------------\u001b[0m",
      "\u001b[0;31mMemoryError\u001b[0m                               Traceback (most recent call last)",
      "\u001b[0;32msklearn\\neighbors\\quad_tree.pyx\u001b[0m in \u001b[0;36msklearn.neighbors.quad_tree._QuadTree._resize\u001b[0;34m()\u001b[0m\n",
      "\u001b[0;32msklearn\\neighbors\\quad_tree.pyx\u001b[0m in \u001b[0;36msklearn.neighbors.quad_tree._QuadTree._resize_c\u001b[0;34m()\u001b[0m\n",
      "\u001b[0;32msklearn\\tree\\_utils.pyx\u001b[0m in \u001b[0;36msklearn.tree._utils.safe_realloc\u001b[0;34m()\u001b[0m\n",
      "\u001b[0;31mMemoryError\u001b[0m: could not allocate 32768000 bytes"
     ]
    },
    {
     "name": "stderr",
     "output_type": "stream",
     "text": [
      "Exception ignored in: 'sklearn.neighbors.quad_tree._QuadTree._insert_point_in_new_child'\n",
      "Traceback (most recent call last):\n",
      "  File \"sklearn\\neighbors\\quad_tree.pyx\", line 588, in sklearn.neighbors.quad_tree._QuadTree._resize\n",
      "  File \"sklearn\\neighbors\\quad_tree.pyx\", line 608, in sklearn.neighbors.quad_tree._QuadTree._resize_c\n",
      "  File \"sklearn\\tree\\_utils.pyx\", line 39, in sklearn.tree._utils.safe_realloc\n",
      "MemoryError: could not allocate 32768000 bytes\n"
     ]
    },
    {
     "ename": "MemoryError",
     "evalue": "could not allocate 32768000 bytes",
     "output_type": "error",
     "traceback": [
      "\u001b[0;31m---------------------------------------------------------------------------\u001b[0m",
      "\u001b[0;31mMemoryError\u001b[0m                               Traceback (most recent call last)",
      "\u001b[0;32msklearn\\neighbors\\quad_tree.pyx\u001b[0m in \u001b[0;36msklearn.neighbors.quad_tree._QuadTree._resize\u001b[0;34m()\u001b[0m\n",
      "\u001b[0;32msklearn\\neighbors\\quad_tree.pyx\u001b[0m in \u001b[0;36msklearn.neighbors.quad_tree._QuadTree._resize_c\u001b[0;34m()\u001b[0m\n",
      "\u001b[0;32msklearn\\tree\\_utils.pyx\u001b[0m in \u001b[0;36msklearn.tree._utils.safe_realloc\u001b[0;34m()\u001b[0m\n",
      "\u001b[0;31mMemoryError\u001b[0m: could not allocate 32768000 bytes"
     ]
    },
    {
     "name": "stderr",
     "output_type": "stream",
     "text": [
      "Exception ignored in: 'sklearn.neighbors.quad_tree._QuadTree._insert_point_in_new_child'\n",
      "Traceback (most recent call last):\n",
      "  File \"sklearn\\neighbors\\quad_tree.pyx\", line 588, in sklearn.neighbors.quad_tree._QuadTree._resize\n",
      "  File \"sklearn\\neighbors\\quad_tree.pyx\", line 608, in sklearn.neighbors.quad_tree._QuadTree._resize_c\n",
      "  File \"sklearn\\tree\\_utils.pyx\", line 39, in sklearn.tree._utils.safe_realloc\n",
      "MemoryError: could not allocate 32768000 bytes\n"
     ]
    },
    {
     "ename": "MemoryError",
     "evalue": "could not allocate 32768000 bytes",
     "output_type": "error",
     "traceback": [
      "\u001b[0;31m---------------------------------------------------------------------------\u001b[0m",
      "\u001b[0;31mMemoryError\u001b[0m                               Traceback (most recent call last)",
      "\u001b[0;32msklearn\\neighbors\\quad_tree.pyx\u001b[0m in \u001b[0;36msklearn.neighbors.quad_tree._QuadTree._resize\u001b[0;34m()\u001b[0m\n",
      "\u001b[0;32msklearn\\neighbors\\quad_tree.pyx\u001b[0m in \u001b[0;36msklearn.neighbors.quad_tree._QuadTree._resize_c\u001b[0;34m()\u001b[0m\n",
      "\u001b[0;32msklearn\\tree\\_utils.pyx\u001b[0m in \u001b[0;36msklearn.tree._utils.safe_realloc\u001b[0;34m()\u001b[0m\n",
      "\u001b[0;31mMemoryError\u001b[0m: could not allocate 32768000 bytes"
     ]
    },
    {
     "name": "stderr",
     "output_type": "stream",
     "text": [
      "Exception ignored in: 'sklearn.neighbors.quad_tree._QuadTree._insert_point_in_new_child'\n",
      "Traceback (most recent call last):\n",
      "  File \"sklearn\\neighbors\\quad_tree.pyx\", line 588, in sklearn.neighbors.quad_tree._QuadTree._resize\n",
      "  File \"sklearn\\neighbors\\quad_tree.pyx\", line 608, in sklearn.neighbors.quad_tree._QuadTree._resize_c\n",
      "  File \"sklearn\\tree\\_utils.pyx\", line 39, in sklearn.tree._utils.safe_realloc\n",
      "MemoryError: could not allocate 32768000 bytes\n"
     ]
    },
    {
     "ename": "MemoryError",
     "evalue": "could not allocate 32768000 bytes",
     "output_type": "error",
     "traceback": [
      "\u001b[0;31m---------------------------------------------------------------------------\u001b[0m",
      "\u001b[0;31mMemoryError\u001b[0m                               Traceback (most recent call last)",
      "\u001b[0;32msklearn\\neighbors\\quad_tree.pyx\u001b[0m in \u001b[0;36msklearn.neighbors.quad_tree._QuadTree._resize\u001b[0;34m()\u001b[0m\n",
      "\u001b[0;32msklearn\\neighbors\\quad_tree.pyx\u001b[0m in \u001b[0;36msklearn.neighbors.quad_tree._QuadTree._resize_c\u001b[0;34m()\u001b[0m\n",
      "\u001b[0;32msklearn\\tree\\_utils.pyx\u001b[0m in \u001b[0;36msklearn.tree._utils.safe_realloc\u001b[0;34m()\u001b[0m\n",
      "\u001b[0;31mMemoryError\u001b[0m: could not allocate 32768000 bytes"
     ]
    },
    {
     "name": "stderr",
     "output_type": "stream",
     "text": [
      "Exception ignored in: 'sklearn.neighbors.quad_tree._QuadTree._insert_point_in_new_child'\n",
      "Traceback (most recent call last):\n",
      "  File \"sklearn\\neighbors\\quad_tree.pyx\", line 588, in sklearn.neighbors.quad_tree._QuadTree._resize\n",
      "  File \"sklearn\\neighbors\\quad_tree.pyx\", line 608, in sklearn.neighbors.quad_tree._QuadTree._resize_c\n",
      "  File \"sklearn\\tree\\_utils.pyx\", line 39, in sklearn.tree._utils.safe_realloc\n",
      "MemoryError: could not allocate 32768000 bytes\n"
     ]
    },
    {
     "ename": "MemoryError",
     "evalue": "",
     "output_type": "error",
     "traceback": [
      "\u001b[0;31m---------------------------------------------------------------------------\u001b[0m",
      "\u001b[0;31mMemoryError\u001b[0m                               Traceback (most recent call last)",
      "\u001b[0;32m<ipython-input-7-eedcb0a93581>\u001b[0m in \u001b[0;36m<module>\u001b[0;34m()\u001b[0m\n\u001b[1;32m      2\u001b[0m \u001b[1;33m\u001b[0m\u001b[0m\n\u001b[1;32m      3\u001b[0m \u001b[0mtsne\u001b[0m \u001b[1;33m=\u001b[0m \u001b[0mTSNE\u001b[0m\u001b[1;33m(\u001b[0m\u001b[0mn_components\u001b[0m\u001b[1;33m=\u001b[0m\u001b[1;36m2\u001b[0m\u001b[1;33m)\u001b[0m\u001b[1;33m\u001b[0m\u001b[0m\n\u001b[0;32m----> 4\u001b[0;31m \u001b[0mX_tsne\u001b[0m \u001b[1;33m=\u001b[0m \u001b[0mtsne\u001b[0m\u001b[1;33m.\u001b[0m\u001b[0mfit_transform\u001b[0m\u001b[1;33m(\u001b[0m\u001b[0mX\u001b[0m\u001b[1;33m)\u001b[0m\u001b[1;33m\u001b[0m\u001b[0m\n\u001b[0m\u001b[1;32m      5\u001b[0m \u001b[1;33m\u001b[0m\u001b[0m\n\u001b[1;32m      6\u001b[0m \u001b[0mplt\u001b[0m\u001b[1;33m.\u001b[0m\u001b[0mscatter\u001b[0m\u001b[1;33m(\u001b[0m\u001b[0mX_tsne\u001b[0m\u001b[1;33m[\u001b[0m\u001b[1;33m:\u001b[0m\u001b[1;33m,\u001b[0m \u001b[1;36m0\u001b[0m\u001b[1;33m]\u001b[0m\u001b[1;33m,\u001b[0m \u001b[0mX_tsne\u001b[0m\u001b[1;33m[\u001b[0m\u001b[1;33m:\u001b[0m\u001b[1;33m,\u001b[0m \u001b[1;36m1\u001b[0m\u001b[1;33m]\u001b[0m\u001b[1;33m)\u001b[0m\u001b[1;33m\u001b[0m\u001b[0m\n",
      "\u001b[0;32mC:\\Anaconda3\\lib\\site-packages\\sklearn\\manifold\\t_sne.py\u001b[0m in \u001b[0;36mfit_transform\u001b[0;34m(self, X, y)\u001b[0m\n\u001b[1;32m    857\u001b[0m             \u001b[0mEmbedding\u001b[0m \u001b[0mof\u001b[0m \u001b[0mthe\u001b[0m \u001b[0mtraining\u001b[0m \u001b[0mdata\u001b[0m \u001b[1;32min\u001b[0m \u001b[0mlow\u001b[0m\u001b[1;33m-\u001b[0m\u001b[0mdimensional\u001b[0m \u001b[0mspace\u001b[0m\u001b[1;33m.\u001b[0m\u001b[1;33m\u001b[0m\u001b[0m\n\u001b[1;32m    858\u001b[0m         \"\"\"\n\u001b[0;32m--> 859\u001b[0;31m         \u001b[0membedding\u001b[0m \u001b[1;33m=\u001b[0m \u001b[0mself\u001b[0m\u001b[1;33m.\u001b[0m\u001b[0m_fit\u001b[0m\u001b[1;33m(\u001b[0m\u001b[0mX\u001b[0m\u001b[1;33m)\u001b[0m\u001b[1;33m\u001b[0m\u001b[0m\n\u001b[0m\u001b[1;32m    860\u001b[0m         \u001b[0mself\u001b[0m\u001b[1;33m.\u001b[0m\u001b[0membedding_\u001b[0m \u001b[1;33m=\u001b[0m \u001b[0membedding\u001b[0m\u001b[1;33m\u001b[0m\u001b[0m\n\u001b[1;32m    861\u001b[0m         \u001b[1;32mreturn\u001b[0m \u001b[0mself\u001b[0m\u001b[1;33m.\u001b[0m\u001b[0membedding_\u001b[0m\u001b[1;33m\u001b[0m\u001b[0m\n",
      "\u001b[0;32mC:\\Anaconda3\\lib\\site-packages\\sklearn\\manifold\\t_sne.py\u001b[0m in \u001b[0;36m_fit\u001b[0;34m(self, X, skip_num_points)\u001b[0m\n\u001b[1;32m    771\u001b[0m                           \u001b[0mX_embedded\u001b[0m\u001b[1;33m=\u001b[0m\u001b[0mX_embedded\u001b[0m\u001b[1;33m,\u001b[0m\u001b[1;33m\u001b[0m\u001b[0m\n\u001b[1;32m    772\u001b[0m                           \u001b[0mneighbors\u001b[0m\u001b[1;33m=\u001b[0m\u001b[0mneighbors_nn\u001b[0m\u001b[1;33m,\u001b[0m\u001b[1;33m\u001b[0m\u001b[0m\n\u001b[0;32m--> 773\u001b[0;31m                           skip_num_points=skip_num_points)\n\u001b[0m\u001b[1;32m    774\u001b[0m \u001b[1;33m\u001b[0m\u001b[0m\n\u001b[1;32m    775\u001b[0m     \u001b[1;33m@\u001b[0m\u001b[0mproperty\u001b[0m\u001b[1;33m\u001b[0m\u001b[0m\n",
      "\u001b[0;32mC:\\Anaconda3\\lib\\site-packages\\sklearn\\manifold\\t_sne.py\u001b[0m in \u001b[0;36m_tsne\u001b[0;34m(self, P, degrees_of_freedom, n_samples, random_state, X_embedded, neighbors, skip_num_points)\u001b[0m\n\u001b[1;32m    828\u001b[0m             \u001b[0mopt_args\u001b[0m\u001b[1;33m[\u001b[0m\u001b[1;34m'n_iter_without_progress'\u001b[0m\u001b[1;33m]\u001b[0m \u001b[1;33m=\u001b[0m \u001b[0mself\u001b[0m\u001b[1;33m.\u001b[0m\u001b[0mn_iter_without_progress\u001b[0m\u001b[1;33m\u001b[0m\u001b[0m\n\u001b[1;32m    829\u001b[0m             params, kl_divergence, it = _gradient_descent(obj_func, params,\n\u001b[0;32m--> 830\u001b[0;31m                                                           **opt_args)\n\u001b[0m\u001b[1;32m    831\u001b[0m \u001b[1;33m\u001b[0m\u001b[0m\n\u001b[1;32m    832\u001b[0m         \u001b[1;31m# Save the final number of iterations\u001b[0m\u001b[1;33m\u001b[0m\u001b[1;33m\u001b[0m\u001b[0m\n",
      "\u001b[0;32mC:\\Anaconda3\\lib\\site-packages\\sklearn\\manifold\\t_sne.py\u001b[0m in \u001b[0;36m_gradient_descent\u001b[0;34m(objective, p0, it, n_iter, n_iter_check, n_iter_without_progress, momentum, learning_rate, min_gain, min_grad_norm, verbose, args, kwargs)\u001b[0m\n\u001b[1;32m    337\u001b[0m     \u001b[0mtic\u001b[0m \u001b[1;33m=\u001b[0m \u001b[0mtime\u001b[0m\u001b[1;33m(\u001b[0m\u001b[1;33m)\u001b[0m\u001b[1;33m\u001b[0m\u001b[0m\n\u001b[1;32m    338\u001b[0m     \u001b[1;32mfor\u001b[0m \u001b[0mi\u001b[0m \u001b[1;32min\u001b[0m \u001b[0mrange\u001b[0m\u001b[1;33m(\u001b[0m\u001b[0mit\u001b[0m\u001b[1;33m,\u001b[0m \u001b[0mn_iter\u001b[0m\u001b[1;33m)\u001b[0m\u001b[1;33m:\u001b[0m\u001b[1;33m\u001b[0m\u001b[0m\n\u001b[0;32m--> 339\u001b[0;31m         \u001b[0merror\u001b[0m\u001b[1;33m,\u001b[0m \u001b[0mgrad\u001b[0m \u001b[1;33m=\u001b[0m \u001b[0mobjective\u001b[0m\u001b[1;33m(\u001b[0m\u001b[0mp\u001b[0m\u001b[1;33m,\u001b[0m \u001b[1;33m*\u001b[0m\u001b[0margs\u001b[0m\u001b[1;33m,\u001b[0m \u001b[1;33m**\u001b[0m\u001b[0mkwargs\u001b[0m\u001b[1;33m)\u001b[0m\u001b[1;33m\u001b[0m\u001b[0m\n\u001b[0m\u001b[1;32m    340\u001b[0m         \u001b[0mgrad_norm\u001b[0m \u001b[1;33m=\u001b[0m \u001b[0mlinalg\u001b[0m\u001b[1;33m.\u001b[0m\u001b[0mnorm\u001b[0m\u001b[1;33m(\u001b[0m\u001b[0mgrad\u001b[0m\u001b[1;33m)\u001b[0m\u001b[1;33m\u001b[0m\u001b[0m\n\u001b[1;32m    341\u001b[0m \u001b[1;33m\u001b[0m\u001b[0m\n",
      "\u001b[0;32mC:\\Anaconda3\\lib\\site-packages\\sklearn\\manifold\\t_sne.py\u001b[0m in \u001b[0;36m_kl_divergence_bh\u001b[0;34m(params, P, degrees_of_freedom, n_samples, n_components, angle, skip_num_points, verbose)\u001b[0m\n\u001b[1;32m    238\u001b[0m     \u001b[0mX_embedded\u001b[0m \u001b[1;33m=\u001b[0m \u001b[0mparams\u001b[0m\u001b[1;33m.\u001b[0m\u001b[0mreshape\u001b[0m\u001b[1;33m(\u001b[0m\u001b[0mn_samples\u001b[0m\u001b[1;33m,\u001b[0m \u001b[0mn_components\u001b[0m\u001b[1;33m)\u001b[0m\u001b[1;33m\u001b[0m\u001b[0m\n\u001b[1;32m    239\u001b[0m \u001b[1;33m\u001b[0m\u001b[0m\n\u001b[0;32m--> 240\u001b[0;31m     \u001b[0mval_P\u001b[0m \u001b[1;33m=\u001b[0m \u001b[0mP\u001b[0m\u001b[1;33m.\u001b[0m\u001b[0mdata\u001b[0m\u001b[1;33m.\u001b[0m\u001b[0mastype\u001b[0m\u001b[1;33m(\u001b[0m\u001b[0mnp\u001b[0m\u001b[1;33m.\u001b[0m\u001b[0mfloat32\u001b[0m\u001b[1;33m,\u001b[0m \u001b[0mcopy\u001b[0m\u001b[1;33m=\u001b[0m\u001b[1;32mFalse\u001b[0m\u001b[1;33m)\u001b[0m\u001b[1;33m\u001b[0m\u001b[0m\n\u001b[0m\u001b[1;32m    241\u001b[0m     \u001b[0mneighbors\u001b[0m \u001b[1;33m=\u001b[0m \u001b[0mP\u001b[0m\u001b[1;33m.\u001b[0m\u001b[0mindices\u001b[0m\u001b[1;33m.\u001b[0m\u001b[0mastype\u001b[0m\u001b[1;33m(\u001b[0m\u001b[0mnp\u001b[0m\u001b[1;33m.\u001b[0m\u001b[0mint64\u001b[0m\u001b[1;33m,\u001b[0m \u001b[0mcopy\u001b[0m\u001b[1;33m=\u001b[0m\u001b[1;32mFalse\u001b[0m\u001b[1;33m)\u001b[0m\u001b[1;33m\u001b[0m\u001b[0m\n\u001b[1;32m    242\u001b[0m     \u001b[0mindptr\u001b[0m \u001b[1;33m=\u001b[0m \u001b[0mP\u001b[0m\u001b[1;33m.\u001b[0m\u001b[0mindptr\u001b[0m\u001b[1;33m.\u001b[0m\u001b[0mastype\u001b[0m\u001b[1;33m(\u001b[0m\u001b[0mnp\u001b[0m\u001b[1;33m.\u001b[0m\u001b[0mint64\u001b[0m\u001b[1;33m,\u001b[0m \u001b[0mcopy\u001b[0m\u001b[1;33m=\u001b[0m\u001b[1;32mFalse\u001b[0m\u001b[1;33m)\u001b[0m\u001b[1;33m\u001b[0m\u001b[0m\n",
      "\u001b[0;31mMemoryError\u001b[0m: "
     ]
    }
   ],
   "source": [
    "X = model[model.wv.vocab]\n",
    "\n",
    "tsne = TSNE(n_components=2)\n",
    "X_tsne = tsne.fit_transform(X)\n",
    "\n",
    "plt.scatter(X_tsne[:, 0], X_tsne[:, 1]);\n",
    "plt.show()"
   ]
  },
  {
   "cell_type": "code",
   "execution_count": 9,
   "metadata": {
    "_cell_guid": "6abef9f0-1c51-4ff3-bf75-3327c5170e0c",
    "_uuid": "372982e3c61dc6bf706a72f4d0c95f4029e1d989",
    "collapsed": true
   },
   "outputs": [],
   "source": [
    "# Train a K-means cluster model with 6 clusters\n",
    "n_clusters = 6\n",
    "embedding_cluster_model = KMeans(n_clusters=n_clusters, random_state=0).fit(embeddings)"
   ]
  },
  {
   "cell_type": "markdown",
   "metadata": {
    "_cell_guid": "06a6711a-45c2-4d10-a8b7-d7af94a1a631",
    "_uuid": "d70b3971332a8aa34f4c931bf15cf841ab44bd79"
   },
   "source": [
    "For each cluster's centroid embedding collect the 20 nearest word embeddings"
   ]
  },
  {
   "cell_type": "code",
   "execution_count": 10,
   "metadata": {
    "_cell_guid": "11da95b5-71aa-4ff3-be6a-0ef1b0aa03cf",
    "_uuid": "379db488ad1a64315a5a62c846fd4bff5f6ee5b2",
    "collapsed": true
   },
   "outputs": [],
   "source": [
    "centroid_embedding_nearest_words = []\n",
    "for centroid_embedding in embedding_cluster_model.cluster_centers_:\n",
    "    centroid_embedding_nearest_words.append(\n",
    "        np.argsort([i[0] for i in cdist(embeddings, np.array([centroid_embedding]), \"euclidean\")])[0:20]\n",
    "    )"
   ]
  },
  {
   "cell_type": "markdown",
   "metadata": {
    "_cell_guid": "ab33a3fd-6c3a-4d49-9451-25223dc8071b",
    "_uuid": "9616b8ad12dc325339fcf65bb3b1223290f9e530"
   },
   "source": [
    "Plot the 20 nearest word embeddings using a distinct color per cluster"
   ]
  },
  {
   "cell_type": "code",
   "execution_count": 11,
   "metadata": {
    "_cell_guid": "cf657ad6-0b9e-4c21-8a89-7d6332677ee2",
    "_uuid": "0816a536cee66ca9e009938896f0784924ffa9a5",
    "collapsed": false
   },
   "outputs": [
    {
     "data": {
      "image/png": "[encoded data removed]",
      "text/plain": [
       "<matplotlib.figure.Figure at 0x2306d87e9b0>"
      ]
     },
     "metadata": {},
     "output_type": "display_data"
    },
    {
     "data": {
      "image/png": "[encoded data removed]",
      "text/plain": [
       "<matplotlib.figure.Figure at 0x2306dc75710>"
      ]
     },
     "metadata": {},
     "output_type": "display_data"
    }
   ],
   "source": [
    "plt.figure(figsize=(10,10))\n",
    "colors = itertools.cycle([\"b\",\"g\",\"r\",\"c\",\"m\",\"y\",\"k\",\"w\"])\n",
    "c = 0\n",
    "for word_indices in centroid_embedding_nearest_words:\n",
    "    clr = next(colors)\n",
    "    plt.scatter(\n",
    "        embeddings_2d_projection[word_indices,0],\n",
    "        embeddings_2d_projection[word_indices,1],\n",
    "        color=clr,\n",
    "        label=\"Cluster \" + str(c)\n",
    "    )\n",
    "    for ix in word_indices:\n",
    "        x, y = embeddings_2d_projection[ix,:]\n",
    "        plt.annotate(model.wv.index2word[ix], (x, y))\n",
    "    c+=1\n",
    "plt.legend(loc='lower left')\n",
    "plt.show()"
   ]
  }
 ],
 "metadata": {
  "anaconda-cloud": {},
  "kernelspec": {
   "display_name": "Python [default]",
   "language": "python",
   "name": "python3"
  },
  "language_info": {
   "codemirror_mode": {
    "name": "ipython",
    "version": 3
   },
   "file_extension": ".py",
   "mimetype": "text/x-python",
   "name": "python",
   "nbconvert_exporter": "python",
   "pygments_lexer": "ipython3",
   "version": "3.5.2"
  }
 },
 "nbformat": 4,
 "nbformat_minor": 1
}
